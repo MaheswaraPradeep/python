{
  "nbformat": 4,
  "nbformat_minor": 0,
  "metadata": {
    "colab": {
      "name": "quiz1 python.ipynb",
      "provenance": [],
      "authorship_tag": "ABX9TyPakAO5mRgeK4/mRY1XqwCc",
      "include_colab_link": true
    },
    "kernelspec": {
      "name": "python3",
      "display_name": "Python 3"
    },
    "language_info": {
      "name": "python"
    }
  },
  "cells": [
    {
      "cell_type": "markdown",
      "metadata": {
        "id": "view-in-github",
        "colab_type": "text"
      },
      "source": [
        "<a href=\"https://colab.research.google.com/github/MaheswaraPradeep/python/blob/main/quiz1_python.ipynb\" target=\"_parent\"><img src=\"https://colab.research.google.com/assets/colab-badge.svg\" alt=\"Open In Colab\"/></a>"
      ]
    },
    {
      "cell_type": "markdown",
      "source": [
        "# Find out the square root of the number"
      ],
      "metadata": {
        "id": "WzJHS8LyrgUV"
      }
    },
    {
      "cell_type": "code",
      "execution_count": 3,
      "metadata": {
        "colab": {
          "base_uri": "https://localhost:8080/"
        },
        "id": "iAMrUdOprfuj",
        "outputId": "3ec4ae7a-695a-4be0-ac93-204ffb0e3adf"
      },
      "outputs": [
        {
          "output_type": "stream",
          "name": "stdout",
          "text": [
            "2.0\n"
          ]
        }
      ],
      "source": [
        "a=4\n",
        "b=4**0.5\n",
        "print(b)"
      ]
    },
    {
      "cell_type": "markdown",
      "source": [
        "## Swapping of two numbers"
      ],
      "metadata": {
        "id": "7t0ExrtesNKU"
      }
    },
    {
      "cell_type": "code",
      "source": [
        "a=2\n",
        "b=3\n",
        "c=a\n",
        "a=b\n",
        "b=c\n",
        "print(\"Result\",\"=\",a,b)"
      ],
      "metadata": {
        "colab": {
          "base_uri": "https://localhost:8080/"
        },
        "id": "PI9ZIX4OroKm",
        "outputId": "57838850-b93d-4187-be8e-e48e4a61a263"
      },
      "execution_count": 4,
      "outputs": [
        {
          "output_type": "stream",
          "name": "stdout",
          "text": [
            "Result = 3 2\n"
          ]
        }
      ]
    },
    {
      "cell_type": "markdown",
      "source": [
        "Add Black color to the given list in the 4th place.\n",
        "\n",
        "## Rainbow = ['Red', 'Orange', 'Yellow', 'Green'] "
      ],
      "metadata": {
        "id": "NVT1-BoJr1Hr"
      }
    },
    {
      "cell_type": "code",
      "source": [
        "Rainbow=['Red','Orange','Yellow','Green']\n",
        "Rainbow.insert(3,\"Black\")\n",
        "print(Rainbow)"
      ],
      "metadata": {
        "colab": {
          "base_uri": "https://localhost:8080/"
        },
        "id": "zirVZYVUruxM",
        "outputId": "44e38ad1-3670-4a10-ac03-3239666edadc"
      },
      "execution_count": 1,
      "outputs": [
        {
          "output_type": "stream",
          "name": "stdout",
          "text": [
            "['Red', 'Orange', 'Yellow', 'Black', 'Green']\n"
          ]
        }
      ]
    },
    {
      "cell_type": "markdown",
      "source": [
        "# Find out the Largest of three numbers from the give input"
      ],
      "metadata": {
        "id": "gxoPkEmOsAMq"
      }
    },
    {
      "cell_type": "code",
      "source": [
        "a=5\n",
        "b=3\n",
        "c=2\n",
        "if (a>b) and (a>c):\n",
        "  print(a)\n",
        "elif (b>a) and (b>c):\n",
        "  print(b)\n",
        "else:  \n",
        "  print(c)"
      ],
      "metadata": {
        "colab": {
          "base_uri": "https://localhost:8080/"
        },
        "id": "5YUPSb4qr_jj",
        "outputId": "4216cf88-9887-4ffb-8524-8000886d1b55"
      },
      "execution_count": 2,
      "outputs": [
        {
          "output_type": "stream",
          "name": "stdout",
          "text": [
            "5\n"
          ]
        }
      ]
    }
  ]
}