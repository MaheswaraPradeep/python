{
  "cells": [
    {
      "cell_type": "markdown",
      "metadata": {
        "id": "view-in-github",
        "colab_type": "text"
      },
      "source": [
        "<a href=\"https://colab.research.google.com/github/MaheswaraPradeep/python/blob/main/Python_exercise.ipynb\" target=\"_parent\"><img src=\"https://colab.research.google.com/assets/colab-badge.svg\" alt=\"Open In Colab\"/></a>"
      ]
    },
    {
      "cell_type": "markdown",
      "id": "8384f795",
      "metadata": {
        "id": "8384f795"
      },
      "source": [
        "## Average of three numbers"
      ]
    },
    {
      "cell_type": "code",
      "execution_count": null,
      "id": "61691ae6",
      "metadata": {
        "id": "61691ae6",
        "outputId": "fdc5c691-31ee-44be-8235-448edf587db7"
      },
      "outputs": [
        {
          "name": "stdout",
          "output_type": "stream",
          "text": [
            "20.0\n",
            "<class 'float'>\n"
          ]
        }
      ],
      "source": [
        "a=10 \n",
        "b=20 \n",
        "c=30\n",
        "d=a+b+c\n",
        "avg=d/3\n",
        "print(avg)\n",
        "print(type(avg))"
      ]
    },
    {
      "cell_type": "markdown",
      "id": "a53be0df",
      "metadata": {
        "id": "a53be0df"
      },
      "source": [
        "## Multiplication of two numbers"
      ]
    },
    {
      "cell_type": "code",
      "execution_count": null,
      "id": "e0d7ef1a",
      "metadata": {
        "id": "e0d7ef1a",
        "outputId": "a8ebe59a-af52-49a0-82d6-18cf734701ab"
      },
      "outputs": [
        {
          "name": "stdout",
          "output_type": "stream",
          "text": [
            "36000\n",
            "<class 'int'>\n"
          ]
        }
      ],
      "source": [
        "a=20\n",
        "b=30\n",
        "c=60\n",
        "d=a*b*c\n",
        "print(d)\n",
        "print(type(d))"
      ]
    },
    {
      "cell_type": "markdown",
      "id": "739126b6",
      "metadata": {
        "id": "739126b6"
      },
      "source": [
        "## Dynamic addition of two numbers"
      ]
    },
    {
      "cell_type": "code",
      "execution_count": null,
      "id": "82052d21",
      "metadata": {
        "id": "82052d21",
        "outputId": "ac42e6d6-8133-4422-fae5-fef05f4b61d0"
      },
      "outputs": [
        {
          "name": "stdout",
          "output_type": "stream",
          "text": [
            "Enter a number10\n",
            "Enter a number10\n",
            "20\n",
            "<class 'int'>\n"
          ]
        }
      ],
      "source": [
        "a=int(input(\"Enter a number\"))\n",
        "b=int(input(\"Enter a number\"))\n",
        "add=a+b\n",
        "print(add)\n",
        "print(type(add))"
      ]
    },
    {
      "cell_type": "markdown",
      "id": "8a3053f6",
      "metadata": {
        "id": "8a3053f6"
      },
      "source": [
        "## Multiplication of two numbers dynamic"
      ]
    },
    {
      "cell_type": "code",
      "execution_count": null,
      "id": "121e5fb9",
      "metadata": {
        "id": "121e5fb9",
        "outputId": "49d47067-264e-4a3e-d46b-8070d8dfa29d"
      },
      "outputs": [
        {
          "name": "stdout",
          "output_type": "stream",
          "text": [
            "Enter a number10\n",
            "Enter a number20\n",
            "200\n",
            "<class 'int'>\n"
          ]
        }
      ],
      "source": [
        "a=int(input(\"Enter a number\"))\n",
        "b=int(input(\"Enter a number\"))\n",
        "product=a*b\n",
        "print(product)\n",
        "print(type(product))"
      ]
    },
    {
      "cell_type": "markdown",
      "id": "fb04412a",
      "metadata": {
        "id": "fb04412a"
      },
      "source": [
        "## Multiplication of three numbers dynamic"
      ]
    },
    {
      "cell_type": "code",
      "execution_count": null,
      "id": "983321de",
      "metadata": {
        "id": "983321de",
        "outputId": "1da8895b-6f34-4e7a-a6b4-fc8900b96b53"
      },
      "outputs": [
        {
          "name": "stdout",
          "output_type": "stream",
          "text": [
            "Enter a number10\n",
            "Enter a number30\n",
            "Enter a number40\n",
            "12000\n",
            "<class 'int'>\n"
          ]
        }
      ],
      "source": [
        "a=int(input(\"Enter a number\"))\n",
        "b=int(input(\"Enter a number\"))\n",
        "c=int(input(\"Enter a number\"))\n",
        "product=a*b*c\n",
        "print(product)\n",
        "print(type(product))"
      ]
    },
    {
      "cell_type": "markdown",
      "id": "4736fb21",
      "metadata": {
        "id": "4736fb21"
      },
      "source": [
        "## Type conversions(convert int to float)"
      ]
    },
    {
      "cell_type": "code",
      "execution_count": null,
      "id": "31315740",
      "metadata": {
        "id": "31315740",
        "outputId": "23caed82-5aca-4639-da41-2bd70f6add02"
      },
      "outputs": [
        {
          "name": "stdout",
          "output_type": "stream",
          "text": [
            "Enter a number10\n",
            "<class 'int'>\n",
            "10\n",
            "10.0\n",
            "<class 'float'>\n"
          ]
        }
      ],
      "source": [
        "a=int(input(\"Enter a number\"))\n",
        "print(type(a))\n",
        "print(a)\n",
        "b=float(a)\n",
        "print(b)\n",
        "print(type(b))"
      ]
    },
    {
      "cell_type": "markdown",
      "id": "a5aef4f4",
      "metadata": {
        "id": "a5aef4f4"
      },
      "source": [
        "## Type conversions(convert float to int)"
      ]
    },
    {
      "cell_type": "code",
      "execution_count": null,
      "id": "7a3ce046",
      "metadata": {
        "id": "7a3ce046",
        "outputId": "9819f316-8ff3-4575-e5cb-a7ca270aa75b"
      },
      "outputs": [
        {
          "name": "stdout",
          "output_type": "stream",
          "text": [
            "Enter a number23.0\n",
            "<class 'float'>\n",
            "23.0\n",
            "23\n",
            "<class 'int'>\n"
          ]
        }
      ],
      "source": [
        "a=float(input(\"Enter a number\"))\n",
        "print(type(a))\n",
        "print(a)\n",
        "b=int(a)\n",
        "print(b)\n",
        "print(type(b))"
      ]
    },
    {
      "cell_type": "markdown",
      "id": "2236a889",
      "metadata": {
        "id": "2236a889"
      },
      "source": [
        "## int to string"
      ]
    },
    {
      "cell_type": "code",
      "execution_count": null,
      "id": "9dc89a63",
      "metadata": {
        "id": "9dc89a63",
        "outputId": "5fa1536b-44f8-4564-90e7-69ca4d47d52c"
      },
      "outputs": [
        {
          "name": "stdout",
          "output_type": "stream",
          "text": [
            "Enter a number12\n",
            "<class 'int'>\n",
            "12\n",
            "12\n"
          ]
        }
      ],
      "source": [
        "a=int(input(\"Enter a number\"))\n",
        "print(type(a))\n",
        "print(a)\n",
        "b=str(a)\n",
        "print(b)\n"
      ]
    },
    {
      "cell_type": "markdown",
      "id": "3148d9da",
      "metadata": {
        "id": "3148d9da"
      },
      "source": [
        "## string to int(not possible if alhabets is given)"
      ]
    },
    {
      "cell_type": "code",
      "execution_count": null,
      "id": "6a719afb",
      "metadata": {
        "id": "6a719afb",
        "outputId": "08ac41bb-e4cd-4033-b3d8-311848b50c1f"
      },
      "outputs": [
        {
          "name": "stdout",
          "output_type": "stream",
          "text": [
            "Enter a string23\n",
            "<class 'str'>\n",
            "23\n",
            "23\n"
          ]
        }
      ],
      "source": [
        "a=str(input(\"Enter a string\"))\n",
        "print(type(a))\n",
        "print (a)\n",
        "b=int(a)\n",
        "print(b)"
      ]
    },
    {
      "cell_type": "markdown",
      "id": "890dbbe2",
      "metadata": {
        "id": "890dbbe2"
      },
      "source": [
        "## Boolean"
      ]
    },
    {
      "cell_type": "code",
      "execution_count": null,
      "id": "8ade3a60",
      "metadata": {
        "id": "8ade3a60",
        "outputId": "17d466b0-f2a9-4542-c443-fb24289308bf"
      },
      "outputs": [
        {
          "name": "stdout",
          "output_type": "stream",
          "text": [
            "False\n",
            "<class 'bool'>\n"
          ]
        }
      ],
      "source": [
        "a=10\n",
        "b=12\n",
        "c=b<a\n",
        "print(bool(c))\n",
        "print(type(c))"
      ]
    },
    {
      "cell_type": "markdown",
      "id": "97002bae",
      "metadata": {
        "id": "97002bae"
      },
      "source": [
        "## boolean to int"
      ]
    },
    {
      "cell_type": "code",
      "execution_count": null,
      "id": "c8921755",
      "metadata": {
        "id": "c8921755",
        "outputId": "2fd5ca94-4d2c-46c1-f00e-6a0a0f9e7d01"
      },
      "outputs": [
        {
          "name": "stdout",
          "output_type": "stream",
          "text": [
            "True\n",
            "1\n"
          ]
        }
      ],
      "source": [
        "a=10\n",
        "b=20\n",
        "c=a<b\n",
        "print(bool(c))\n",
        "d=int(c)\n",
        "print(d)"
      ]
    },
    {
      "cell_type": "markdown",
      "id": "26a1faae",
      "metadata": {
        "id": "26a1faae"
      },
      "source": [
        "## boolean to float"
      ]
    },
    {
      "cell_type": "code",
      "execution_count": null,
      "id": "1be46a47",
      "metadata": {
        "id": "1be46a47",
        "outputId": "ea438abc-4b87-49d7-aa11-9a6e3b21e0cb"
      },
      "outputs": [
        {
          "name": "stdout",
          "output_type": "stream",
          "text": [
            "True\n",
            "<class 'bool'>\n",
            "1.0\n",
            "<class 'float'>\n"
          ]
        }
      ],
      "source": [
        "a=10\n",
        "b=20\n",
        "c=a<b\n",
        "print(bool(c))\n",
        "print(type(c))\n",
        "d=float(c)\n",
        "print(d)\n",
        "print(type(d))"
      ]
    },
    {
      "cell_type": "markdown",
      "id": "a78c097f",
      "metadata": {
        "id": "a78c097f"
      },
      "source": [
        "## boolean to string"
      ]
    },
    {
      "cell_type": "code",
      "execution_count": null,
      "id": "54f77115",
      "metadata": {
        "id": "54f77115",
        "outputId": "e187b7fe-cb68-4fe0-a8a0-9fd365280e0b"
      },
      "outputs": [
        {
          "name": "stdout",
          "output_type": "stream",
          "text": [
            "True\n",
            "<class 'bool'>\n",
            "True\n",
            "<class 'str'>\n"
          ]
        }
      ],
      "source": [
        "a=10\n",
        "b=20\n",
        "c=a<b\n",
        "print(bool(c))\n",
        "print(type(c))\n",
        "d=str(c)\n",
        "print(d)\n",
        "print(type(d))"
      ]
    },
    {
      "cell_type": "markdown",
      "id": "976bbb30",
      "metadata": {
        "id": "976bbb30"
      },
      "source": [
        "# Complex"
      ]
    },
    {
      "cell_type": "code",
      "execution_count": null,
      "id": "9ee8e9e6",
      "metadata": {
        "id": "9ee8e9e6",
        "outputId": "e58f5129-4314-42cb-c051-7ae23980164e"
      },
      "outputs": [
        {
          "name": "stdout",
          "output_type": "stream",
          "text": [
            "<class 'complex'>\n",
            "(4+3j)\n",
            "<class 'str'>\n",
            "True\n",
            "<class 'bool'>\n"
          ]
        }
      ],
      "source": [
        "a=4+3j\n",
        "print(type(a))\n",
        "b=str(a)\n",
        "print(b)\n",
        "print(type(b))\n",
        "c=bool(a)\n",
        "print(c)\n",
        "print(type(c))"
      ]
    },
    {
      "cell_type": "code",
      "execution_count": null,
      "id": "4dc350cb",
      "metadata": {
        "id": "4dc350cb"
      },
      "outputs": [],
      "source": [
        ""
      ]
    }
  ],
  "metadata": {
    "kernelspec": {
      "display_name": "Python 3 (ipykernel)",
      "language": "python",
      "name": "python3"
    },
    "language_info": {
      "codemirror_mode": {
        "name": "ipython",
        "version": 3
      },
      "file_extension": ".py",
      "mimetype": "text/x-python",
      "name": "python",
      "nbconvert_exporter": "python",
      "pygments_lexer": "ipython3",
      "version": "3.9.7"
    },
    "colab": {
      "name": "Python exercise.ipynb",
      "provenance": [],
      "include_colab_link": true
    }
  },
  "nbformat": 4,
  "nbformat_minor": 5
}