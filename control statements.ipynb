{
 "cells": [
  {
   "cell_type": "markdown",
   "id": "4b2c9255",
   "metadata": {},
   "source": [
    "# Control statements"
   ]
  },
  {
   "cell_type": "markdown",
   "id": "2e5bd1fc",
   "metadata": {},
   "source": [
    "## if"
   ]
  },
  {
   "cell_type": "code",
   "execution_count": 3,
   "id": "5bcd0020",
   "metadata": {},
   "outputs": [
    {
     "name": "stdout",
     "output_type": "stream",
     "text": [
      "You are eligible for voting\n",
      "You are not eligible for voting\n",
      "You are eligible for voting\n"
     ]
    }
   ],
   "source": [
    "a=20\n",
    "b=16\n",
    "c=40\n",
    "if a>=18:\n",
    "    print(\"You are eligible for voting\")\n",
    "else:\n",
    "    print(\"You are not eligible for voting\")\n",
    "if b>=18:\n",
    "    print(\"You are eligible for voting\")\n",
    "else:\n",
    "    print(\"You are not eligible for voting\")\n",
    "if c>=18:\n",
    "    print(\"You are eligible for voting\")\n",
    "else:\n",
    "    print(\"You are not eligible for voting\")"
   ]
  },
  {
   "cell_type": "code",
   "execution_count": 6,
   "id": "50150b38",
   "metadata": {},
   "outputs": [
    {
     "name": "stdout",
     "output_type": "stream",
     "text": [
      "Enter your age:12\n",
      "Enter your age:13\n",
      "Enter your age:45\n",
      "You are not eligible for voting\n",
      "You are not eligible for voting\n",
      "You are eligible for voting\n"
     ]
    }
   ],
   "source": [
    "a=int(input(\"Enter your age:\"))\n",
    "b=int(input(\"Enter your age:\"))\n",
    "c=int(input(\"Enter your age:\"))\n",
    "if a>=18:\n",
    "    print(\"You are eligible for voting\")\n",
    "else:\n",
    "    print(\"You are not eligible for voting\")\n",
    "if b>=18:\n",
    "    print(\"You are eligible for voting\")\n",
    "else:\n",
    "    print(\"You are not eligible for voting\")\n",
    "if c>=18:\n",
    "    print(\"You are eligible for voting\")\n",
    "else:\n",
    "    print(\"You are not eligible for voting\")"
   ]
  },
  {
   "cell_type": "markdown",
   "id": "2e4a5d1b",
   "metadata": {},
   "source": [
    "## greatest of three numbers"
   ]
  },
  {
   "cell_type": "code",
   "execution_count": 12,
   "id": "4bcc6282",
   "metadata": {},
   "outputs": [
    {
     "name": "stdout",
     "output_type": "stream",
     "text": [
      "Enter the number:12\n",
      "Enter the numbe :13\n",
      "Enter the number :34\n",
      "c is the greatest number\n"
     ]
    }
   ],
   "source": [
    "a=int(input(\"Enter the number:\"))\n",
    "b=int(input(\"Enter the number :\"))\n",
    "c=int(input(\"Enter the number :\"))\n",
    "if a>b and a>c:\n",
    "    print(\"a is the greatest number\")\n",
    "elif b>a and b>c:\n",
    "    print(\"b is greatest number\")\n",
    "else:\n",
    "    print(\"c is the greatest number\")"
   ]
  },
  {
   "cell_type": "markdown",
   "id": "e8309924",
   "metadata": {},
   "source": [
    "## comparision of 5 numbers"
   ]
  },
  {
   "cell_type": "code",
   "execution_count": 13,
   "id": "f05684d4",
   "metadata": {},
   "outputs": [
    {
     "name": "stdout",
     "output_type": "stream",
     "text": [
      "Enter the number:12\n",
      "Enter the number :23\n",
      "Enter the number :33\n",
      "Enter the number :34\n",
      "Enter the number :45\n",
      "e is the greatest number\n"
     ]
    }
   ],
   "source": [
    "a=int(input(\"Enter the number:\"))\n",
    "b=int(input(\"Enter the number :\"))\n",
    "c=int(input(\"Enter the number :\"))\n",
    "d=int(input(\"Enter the number :\"))\n",
    "e=int(input(\"Enter the number :\"))\n",
    "if a>b and a>c and a>d and a>e:\n",
    "    print(\"a is the greatest number\")\n",
    "elif b>a and b>c and b>d and b>e:\n",
    "    print(\"b is the greatest number\")\n",
    "elif c>a and c>b and c>d and c>e:\n",
    "     print(\"c is the greatest number\")\n",
    "elif d>a and d>b and d>c and d>e:\n",
    "    print(\"d is the greatest number\")\n",
    "else:\n",
    "       print(\"e is the greatest number\")"
   ]
  },
  {
   "cell_type": "markdown",
   "id": "dbb8a0c7",
   "metadata": {},
   "source": [
    "## Find max marks of subject of a student"
   ]
  },
  {
   "cell_type": "code",
   "execution_count": 15,
   "id": "96b02a56",
   "metadata": {},
   "outputs": [
    {
     "name": "stdout",
     "output_type": "stream",
     "text": [
      "Enter the maths marks:98\n",
      "Enter the  science marks :89\n",
      "Enter the  telugu marks:99\n",
      "Enter the  english marks :76\n",
      "Enter the social marks :75\n",
      "telugu has highest marks\n"
     ]
    }
   ],
   "source": [
    "a=int(input(\"Enter the maths marks:\"))\n",
    "b=int(input(\"Enter the  science marks :\"))\n",
    "c=int(input(\"Enter the  telugu marks:\"))\n",
    "d=int(input(\"Enter the  english marks :\"))\n",
    "e=int(input(\"Enter the social marks :\"))\n",
    "if a>b and a>c and a>d and a>e:\n",
    "    print(\"Maths has highest marks\")\n",
    "elif b>a and b>c and b>d and b>e:\n",
    "    print(\"Science has highest marksr\")\n",
    "elif c>a and c>b and c>d and c>e:\n",
    "     print(\"telugu has highest marks\")\n",
    "elif d>a and d>b and d>c and d>e:\n",
    "    print(\"english has highest marks\")\n",
    "else:\n",
    "       print(\"social has highest marks\")"
   ]
  },
  {
   "cell_type": "markdown",
   "id": "d431c615",
   "metadata": {},
   "source": [
    "## print even and odd numbers between 1 to 100"
   ]
  },
  {
   "cell_type": "code",
   "execution_count": 16,
   "id": "b4abb9d0",
   "metadata": {},
   "outputs": [
    {
     "name": "stdout",
     "output_type": "stream",
     "text": [
      "Even Numbers:\n",
      "2\n",
      "4\n",
      "6\n",
      "8\n",
      "10\n",
      "12\n",
      "14\n",
      "16\n",
      "18\n",
      "20\n",
      "22\n",
      "24\n",
      "26\n",
      "28\n",
      "30\n",
      "32\n",
      "34\n",
      "36\n",
      "38\n",
      "40\n",
      "42\n",
      "44\n",
      "46\n",
      "48\n",
      "50\n",
      "52\n",
      "54\n",
      "56\n",
      "58\n",
      "60\n",
      "62\n",
      "64\n",
      "66\n",
      "68\n",
      "70\n",
      "72\n",
      "74\n",
      "76\n",
      "78\n",
      "80\n",
      "82\n",
      "84\n",
      "86\n",
      "88\n",
      "90\n",
      "92\n",
      "94\n",
      "96\n",
      "98\n",
      "Odd Numbers:\n",
      "1\n",
      "3\n",
      "5\n",
      "7\n",
      "9\n",
      "11\n",
      "13\n",
      "15\n",
      "17\n",
      "19\n",
      "21\n",
      "23\n",
      "25\n",
      "27\n",
      "29\n",
      "31\n",
      "33\n",
      "35\n",
      "37\n",
      "39\n",
      "41\n",
      "43\n",
      "45\n",
      "47\n",
      "49\n",
      "51\n",
      "53\n",
      "55\n",
      "57\n",
      "59\n",
      "61\n",
      "63\n",
      "65\n",
      "67\n",
      "69\n",
      "71\n",
      "73\n",
      "75\n",
      "77\n",
      "79\n",
      "81\n",
      "83\n",
      "85\n",
      "87\n",
      "89\n",
      "91\n",
      "93\n",
      "95\n",
      "97\n",
      "99\n"
     ]
    }
   ],
   "source": [
    "print(\"Even Numbers:\")\n",
    "for i in range(1,100):\n",
    "  if (i%2==0):\n",
    "    print(i)\n",
    "    \n",
    "print(\"Odd Numbers:\")\n",
    "for i in range(1,100):\n",
    "  if (i%2!=0):\n",
    "    print(i)"
   ]
  },
  {
   "cell_type": "code",
   "execution_count": null,
   "id": "b53508bb",
   "metadata": {},
   "outputs": [],
   "source": []
  }
 ],
 "metadata": {
  "kernelspec": {
   "display_name": "Python 3 (ipykernel)",
   "language": "python",
   "name": "python3"
  },
  "language_info": {
   "codemirror_mode": {
    "name": "ipython",
    "version": 3
   },
   "file_extension": ".py",
   "mimetype": "text/x-python",
   "name": "python",
   "nbconvert_exporter": "python",
   "pygments_lexer": "ipython3",
   "version": "3.9.7"
  }
 },
 "nbformat": 4,
 "nbformat_minor": 5
}
