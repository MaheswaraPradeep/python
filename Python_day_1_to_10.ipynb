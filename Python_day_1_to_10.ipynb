{
  "nbformat": 4,
  "nbformat_minor": 0,
  "metadata": {
    "colab": {
      "provenance": [],
      "authorship_tag": "ABX9TyO+kZwRXm3Wo6P7pLxsz9Oj",
      "include_colab_link": true
    },
    "kernelspec": {
      "name": "python3",
      "display_name": "Python 3"
    },
    "language_info": {
      "name": "python"
    }
  },
  "cells": [
    {
      "cell_type": "markdown",
      "metadata": {
        "id": "view-in-github",
        "colab_type": "text"
      },
      "source": [
        "<a href=\"https://colab.research.google.com/github/MaheswaraPradeep/python/blob/main/Python_day_1_to_10.ipynb\" target=\"_parent\"><img src=\"https://colab.research.google.com/assets/colab-badge.svg\" alt=\"Open In Colab\"/></a>"
      ]
    },
    {
      "cell_type": "code",
      "execution_count": 2,
      "metadata": {
        "colab": {
          "base_uri": "https://localhost:8080/"
        },
        "id": "vzkMaGTfjOFV",
        "outputId": "bdfcfd12-44c3-41a9-c9a7-a6be7c3b1c40"
      },
      "outputs": [
        {
          "output_type": "stream",
          "name": "stdout",
          "text": [
            "Hey I am a good boy\n",
            "and this viwer is also good\n"
          ]
        }
      ],
      "source": [
        "#hey hello!\\\n",
        "print(\"Hey I am a good boy\\nand this viwer is also good\") #\\n is ecape sequence which is uded to pront the next characters in new line"
      ]
    },
    {
      "cell_type": "code",
      "source": [
        "print(\"hello world\")\n",
        "\"\"\"this is a multiline comment\n",
        "which is used by triple dpuble quotes\"\"\""
      ],
      "metadata": {
        "colab": {
          "base_uri": "https://localhost:8080/",
          "height": 54
        },
        "id": "9Cs3LsE5jmIz",
        "outputId": "cd7c4717-d0ab-4eb9-b5f1-ffe10fd9a82b"
      },
      "execution_count": 5,
      "outputs": [
        {
          "output_type": "stream",
          "name": "stdout",
          "text": [
            "hello world\n"
          ]
        },
        {
          "output_type": "execute_result",
          "data": {
            "text/plain": [
              "'this is a multiline comment\\nwhich is used by triple single quotes'"
            ],
            "application/vnd.google.colaboratory.intrinsic+json": {
              "type": "string"
            }
          },
          "metadata": {},
          "execution_count": 5
        }
      ]
    },
    {
      "cell_type": "code",
      "source": [
        "print(\"Hey I am a \\\"good boy\\\"\\nand this viwer is also good\") #double ecape sequence cahracter"
      ],
      "metadata": {
        "colab": {
          "base_uri": "https://localhost:8080/"
        },
        "id": "sA_gWTGfjpIw",
        "outputId": "b18285e1-ef2c-49fa-d51f-23a2869a5bee"
      },
      "execution_count": 7,
      "outputs": [
        {
          "output_type": "stream",
          "name": "stdout",
          "text": [
            "Hey I am a \"good boy\"\n",
            "and this viwer is also good\n"
          ]
        }
      ]
    },
    {
      "cell_type": "code",
      "source": [
        "print(\"hey\",6,7,sep=',',end=\"009\\n\")\n",
        "print(\"hello\")"
      ],
      "metadata": {
        "colab": {
          "base_uri": "https://localhost:8080/"
        },
        "id": "oji1Gl6PlLva",
        "outputId": "efacf130-3e66-4a36-81a5-46f31e9763e5"
      },
      "execution_count": 10,
      "outputs": [
        {
          "output_type": "stream",
          "name": "stdout",
          "text": [
            "hey,6,7009\n",
            "hello\n"
          ]
        }
      ]
    },
    {
      "cell_type": "markdown",
      "source": [
        "Variables"
      ],
      "metadata": {
        "id": "RZHj6tCAqiuY"
      }
    },
    {
      "cell_type": "code",
      "source": [
        "a=23453443\n",
        "print(a)\n",
        "b=\"Harry\"\n",
        "print(b)\n",
        "c=9\n",
        "print(a+c)\n",
        "d=complex(8,2)#complex number which is 8+2i\n",
        "type(a) #reveals data type of the variable\n",
        "type(b)\n",
        "type(d)"
      ],
      "metadata": {
        "colab": {
          "base_uri": "https://localhost:8080/"
        },
        "id": "miV7iBq3lQNU",
        "outputId": "fcd663a5-a833-4672-caba-1eb97e1532bd"
      },
      "execution_count": 17,
      "outputs": [
        {
          "output_type": "stream",
          "name": "stdout",
          "text": [
            "23453443\n",
            "Harry\n",
            "23453452\n"
          ]
        },
        {
          "output_type": "execute_result",
          "data": {
            "text/plain": [
              "complex"
            ]
          },
          "metadata": {},
          "execution_count": 17
        }
      ]
    },
    {
      "cell_type": "markdown",
      "source": [
        "Type casting"
      ],
      "metadata": {
        "id": "ODYisPOV49Kd"
      }
    },
    {
      "cell_type": "code",
      "source": [
        "a=\"Maheswara\"\n",
        "b=\"Pradeep\"\n",
        "print(a+b)\n",
        "c=\"1\"\n",
        "d=\"2\"\n",
        "print(c+d)"
      ],
      "metadata": {
        "colab": {
          "base_uri": "https://localhost:8080/"
        },
        "id": "eqVqXCS_qopR",
        "outputId": "dfceb94b-7080-4e8c-fad6-09751f4d9125"
      },
      "execution_count": 19,
      "outputs": [
        {
          "output_type": "stream",
          "name": "stdout",
          "text": [
            "MaheswaraPradeep\n",
            "12\n"
          ]
        }
      ]
    },
    {
      "cell_type": "code",
      "source": [
        "a=1\n",
        "b=2\n",
        "print(a+2)"
      ],
      "metadata": {
        "colab": {
          "base_uri": "https://localhost:8080/"
        },
        "id": "nDafWCyL5DFx",
        "outputId": "5d4ee332-a4b3-4a83-e0ff-8a3ea121f037"
      },
      "execution_count": 20,
      "outputs": [
        {
          "output_type": "stream",
          "name": "stdout",
          "text": [
            "3\n"
          ]
        }
      ]
    },
    {
      "cell_type": "code",
      "source": [
        "#conversion of 1 datatype to another is called typecasting\n",
        "a=\"1\"\n",
        "b=\"2\"\n",
        "print(int(a)+int(b))"
      ],
      "metadata": {
        "colab": {
          "base_uri": "https://localhost:8080/"
        },
        "id": "iDMYaTLb5LXS",
        "outputId": "cf6e6be9-7445-41ed-c11f-e8847e207e23"
      },
      "execution_count": 21,
      "outputs": [
        {
          "output_type": "stream",
          "name": "stdout",
          "text": [
            "3\n"
          ]
        }
      ]
    },
    {
      "cell_type": "code",
      "source": [
        "#Implicit typecasting\n",
        "c=1.9\n",
        "d=9\n",
        "print(c+d)"
      ],
      "metadata": {
        "colab": {
          "base_uri": "https://localhost:8080/"
        },
        "id": "AddxSvVU5fX2",
        "outputId": "e832385e-a279-45a6-9ef0-de869ba40f93"
      },
      "execution_count": 22,
      "outputs": [
        {
          "output_type": "stream",
          "name": "stdout",
          "text": [
            "10.9\n"
          ]
        }
      ]
    },
    {
      "cell_type": "code",
      "source": [],
      "metadata": {
        "id": "HXsO3zGs8lvD"
      },
      "execution_count": null,
      "outputs": []
    }
  ]
}