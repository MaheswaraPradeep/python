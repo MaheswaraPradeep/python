{
  "nbformat": 4,
  "nbformat_minor": 0,
  "metadata": {
    "colab": {
      "name": "Control statements",
      "provenance": [],
      "collapsed_sections": [],
      "authorship_tag": "ABX9TyOYFRHvyQe8MOUu9dOSNy4r",
      "include_colab_link": true
    },
    "kernelspec": {
      "name": "python3",
      "display_name": "Python 3"
    },
    "language_info": {
      "name": "python"
    }
  },
  "cells": [
    {
      "cell_type": "markdown",
      "metadata": {
        "id": "view-in-github",
        "colab_type": "text"
      },
      "source": [
        "<a href=\"https://colab.research.google.com/github/MaheswaraPradeep/python/blob/main/Control_statements.ipynb\" target=\"_parent\"><img src=\"https://colab.research.google.com/assets/colab-badge.svg\" alt=\"Open In Colab\"/></a>"
      ]
    },
    {
      "cell_type": "code",
      "execution_count": null,
      "metadata": {
        "colab": {
          "base_uri": "https://localhost:8080/"
        },
        "id": "Pr47Xd6gpXRI",
        "outputId": "296e8460-e234-4eb1-8f32-de66192b9551"
      },
      "outputs": [
        {
          "output_type": "stream",
          "name": "stdout",
          "text": [
            "You are eligible for voting\n",
            "You are not eligible for voting\n",
            "You are eligible for voting\n"
          ]
        }
      ],
      "source": [
        "a=20\n",
        "b=16\n",
        "c=40\n",
        "if a>=18:\n",
        "    print(\"You are eligible for voting\")\n",
        "else:\n",
        "    print(\"You are not eligible for voting\")\n",
        "if b>=18:\n",
        "    print(\"You are eligible for voting\")\n",
        "else:\n",
        "    print(\"You are not eligible for voting\")\n",
        "if c>=18:\n",
        "    print(\"You are eligible for voting\")\n",
        "else:\n",
        "    print(\"You are not eligible for voting\")"
      ]
    },
    {
      "cell_type": "code",
      "source": [
        "a=int(input(\"Enter your age:\"))\n",
        "b=int(input(\"Enter your age:\"))\n",
        "c=int(input(\"Enter your age:\"))\n",
        "if a>=18:\n",
        "    print(\"You are eligible for voting\")\n",
        "else:\n",
        "    print(\"You are not eligible for voting\")\n",
        "if b>=18:\n",
        "    print(\"You are eligible for voting\")\n",
        "else:\n",
        "    print(\"You are not eligible for voting\")\n",
        "if c>=18:\n",
        "    print(\"You are eligible for voting\")\n",
        "else:\n",
        "    print(\"You are not eligible for voting\")"
      ],
      "metadata": {
        "colab": {
          "base_uri": "https://localhost:8080/"
        },
        "id": "WVnaLKtgsZi6",
        "outputId": "1568a80e-e7d9-459d-ea61-4efb9431282e"
      },
      "execution_count": null,
      "outputs": [
        {
          "output_type": "stream",
          "name": "stdout",
          "text": [
            "Enter your age:12\n",
            "Enter your age:13\n",
            "Enter your age:34\n",
            "You are not eligible for voting\n",
            "You are not eligible for voting\n",
            "You are eligible for voting\n"
          ]
        }
      ]
    },
    {
      "cell_type": "code",
      "source": [
        "print(\"Even Numbers:\")\n",
        "for i in range(1,100):\n",
        "  if (i%2==0):\n",
        "    print(i)\n",
        "    \n",
        "print(\"Odd Numbers:\")\n",
        "for i in range(1,100):\n",
        "  if (i%2!=0):\n",
        "    print(i)\n",
        "    \n"
      ],
      "metadata": {
        "colab": {
          "base_uri": "https://localhost:8080/"
        },
        "id": "qttcvVe9yYxB",
        "outputId": "412f595f-edf2-47fd-c7bb-8e8d9c8a521f"
      },
      "execution_count": null,
      "outputs": [
        {
          "output_type": "stream",
          "name": "stdout",
          "text": [
            "Even Numbers:\n",
            "2\n",
            "4\n",
            "6\n",
            "8\n",
            "10\n",
            "12\n",
            "14\n",
            "16\n",
            "18\n",
            "20\n",
            "22\n",
            "24\n",
            "26\n",
            "28\n",
            "30\n",
            "32\n",
            "34\n",
            "36\n",
            "38\n",
            "40\n",
            "42\n",
            "44\n",
            "46\n",
            "48\n",
            "50\n",
            "52\n",
            "54\n",
            "56\n",
            "58\n",
            "60\n",
            "62\n",
            "64\n",
            "66\n",
            "68\n",
            "70\n",
            "72\n",
            "74\n",
            "76\n",
            "78\n",
            "80\n",
            "82\n",
            "84\n",
            "86\n",
            "88\n",
            "90\n",
            "92\n",
            "94\n",
            "96\n",
            "98\n",
            "Odd Numbers:\n",
            "1\n",
            "3\n",
            "5\n",
            "7\n",
            "9\n",
            "11\n",
            "13\n",
            "15\n",
            "17\n",
            "19\n",
            "21\n",
            "23\n",
            "25\n",
            "27\n",
            "29\n",
            "31\n",
            "33\n",
            "35\n",
            "37\n",
            "39\n",
            "41\n",
            "43\n",
            "45\n",
            "47\n",
            "49\n",
            "51\n",
            "53\n",
            "55\n",
            "57\n",
            "59\n",
            "61\n",
            "63\n",
            "65\n",
            "67\n",
            "69\n",
            "71\n",
            "73\n",
            "75\n",
            "77\n",
            "79\n",
            "81\n",
            "83\n",
            "85\n",
            "87\n",
            "89\n",
            "91\n",
            "93\n",
            "95\n",
            "97\n",
            "99\n"
          ]
        }
      ]
    },
    {
      "cell_type": "markdown",
      "source": [
        "# While loop"
      ],
      "metadata": {
        "id": "dKIVa_nDLqpa"
      }
    },
    {
      "cell_type": "code",
      "source": [
        "n=int(input(\"Enter number of terms\"))\n",
        "i=1\n",
        "sum=0\n",
        "while i<=n:\n",
        "   sum=sum+i\n",
        "   i=i+1\n",
        "   print(sum)"
      ],
      "metadata": {
        "colab": {
          "base_uri": "https://localhost:8080/"
        },
        "id": "Ek6AH0bvAuKA",
        "outputId": "5e48fa16-575f-48fe-abba-72b37ac0e5a8"
      },
      "execution_count": 3,
      "outputs": [
        {
          "output_type": "stream",
          "name": "stdout",
          "text": [
            "Enter number of terms10\n",
            "1\n",
            "3\n",
            "6\n",
            "10\n",
            "15\n",
            "21\n",
            "28\n",
            "36\n",
            "45\n",
            "55\n"
          ]
        }
      ]
    },
    {
      "cell_type": "markdown",
      "source": [
        "Leap year"
      ],
      "metadata": {
        "id": "EXdc_AnXN-P6"
      }
    },
    {
      "cell_type": "code",
      "source": [
        "n=int(input(\"Enter the year:\"))\n",
        "if (n%4==0):\n",
        "  print(\"leap year\")\n",
        "else:\n",
        "  print(\"Not a leap year\")  "
      ],
      "metadata": {
        "colab": {
          "base_uri": "https://localhost:8080/"
        },
        "id": "oLuPoDmcN80D",
        "outputId": "7466aac1-8808-41a2-c77a-c5dfb92e50ca"
      },
      "execution_count": 5,
      "outputs": [
        {
          "output_type": "stream",
          "name": "stdout",
          "text": [
            "Enter the year:2016\n",
            "leap year\n"
          ]
        }
      ]
    },
    {
      "cell_type": "markdown",
      "source": [
        "Triangle is equilateral or isosceles or scalene"
      ],
      "metadata": {
        "id": "05L4t_dQPuID"
      }
    },
    {
      "cell_type": "code",
      "source": [
        "a=int(input(\"Enter side 1:\"))\n",
        "b=int(input(\"Enter side 2:\"))\n",
        "c=int(input(\"Enter side 3:\"))\n",
        "if (a==b==c):\n",
        "  print(\"Eqilateral\")\n",
        "elif (a==b) or (b==c) or (c==a):\n",
        "  print(\"isosceles\") \n",
        "else:\n",
        "  print(\"Scalene\")   "
      ],
      "metadata": {
        "colab": {
          "base_uri": "https://localhost:8080/"
        },
        "id": "ojJj58NUPths",
        "outputId": "dd9c99b9-3526-4eba-e357-268dff7e3cf3"
      },
      "execution_count": 9,
      "outputs": [
        {
          "output_type": "stream",
          "name": "stdout",
          "text": [
            "Enter side 1:2\n",
            "Enter side 2:2\n",
            "Enter side 3:3\n",
            "isosceles\n"
          ]
        }
      ]
    },
    {
      "cell_type": "markdown",
      "source": [
        "## Minimum among three number"
      ],
      "metadata": {
        "id": "TPmbP0rLRYKz"
      }
    },
    {
      "cell_type": "code",
      "source": [
        "a=int(input(\"Enter number:\"))\n",
        "b=int(input(\"Enter number:\"))\n",
        "c=int(input(\"Enter number:\"))\n",
        "if a<b and a<c:\n",
        "  print(\"a is the minimum number\")\n",
        "elif b<a and b<c:\n",
        "  print(\"b is the minimum number\")\n",
        "else:\n",
        "  print(\"c is the minimum number\")"
      ],
      "metadata": {
        "colab": {
          "base_uri": "https://localhost:8080/"
        },
        "id": "aspBHY87RXUe",
        "outputId": "cc5ce3c2-fe3f-48ba-f985-fb4c01e590ea"
      },
      "execution_count": 10,
      "outputs": [
        {
          "output_type": "stream",
          "name": "stdout",
          "text": [
            "Enter number:2\n",
            "Enter number:3\n",
            "Enter number:4\n",
            "a is the minimum number\n"
          ]
        }
      ]
    },
    {
      "cell_type": "markdown",
      "source": [
        "# Divisible by 5 or 11"
      ],
      "metadata": {
        "id": "7BuhHkzASNas"
      }
    },
    {
      "cell_type": "code",
      "source": [
        "a=int(input(\"Enter number:\"))\n",
        "if (a%5==0) and (a%11==0):\n",
        "  print(\"Number is divisible by both 5 and 11\")\n",
        "else:\n",
        "  print(\"Number is not divisible by both 5 and 11\")  "
      ],
      "metadata": {
        "colab": {
          "base_uri": "https://localhost:8080/"
        },
        "id": "7qTKTHCgSM09",
        "outputId": "56846248-a590-4667-dbc5-2f358a67903c"
      },
      "execution_count": 11,
      "outputs": [
        {
          "output_type": "stream",
          "name": "stdout",
          "text": [
            "Enter number:55\n",
            "Number is divisible by both 5 and 11\n"
          ]
        }
      ]
    },
    {
      "cell_type": "markdown",
      "source": [
        "## factorial of a number"
      ],
      "metadata": {
        "id": "CAq_PDcrS57k"
      }
    },
    {
      "cell_type": "code",
      "source": [
        "a=int(input(\"Enter number:\"))\n",
        "fact=1\n",
        "for i in range(1,a+1):\n",
        "  fact=fact*i\n",
        "print(fact)"
      ],
      "metadata": {
        "colab": {
          "base_uri": "https://localhost:8080/"
        },
        "id": "HO_G9fl9S5HW",
        "outputId": "9be019dd-5182-41f8-ee51-c87a2161e2ae"
      },
      "execution_count": 15,
      "outputs": [
        {
          "output_type": "stream",
          "name": "stdout",
          "text": [
            "Enter number:5\n",
            "120\n"
          ]
        }
      ]
    },
    {
      "cell_type": "markdown",
      "source": [
        "## Palindrome or not"
      ],
      "metadata": {
        "id": "UyTLx3ixU_EN"
      }
    },
    {
      "cell_type": "code",
      "source": [
        "n=int(input(\"Enter number:\"))\n",
        "rev=0\n",
        "org=n\n",
        "while (n!=0):\n",
        "  remainder=n%10\n",
        "  rev=rev*10+remainder\n",
        "  n=int(n/10)\n",
        "if (org==rev):\n",
        "  print(\"Palindrome\")\n",
        "else:\n",
        "  print(\"Not palindrome\")  "
      ],
      "metadata": {
        "colab": {
          "base_uri": "https://localhost:8080/"
        },
        "id": "YfJFURMJUk0G",
        "outputId": "14702abf-d65b-4790-b830-ba0408a358da"
      },
      "execution_count": 17,
      "outputs": [
        {
          "output_type": "stream",
          "name": "stdout",
          "text": [
            "Enter number:111\n",
            "Palindrome\n"
          ]
        }
      ]
    },
    {
      "cell_type": "code",
      "source": [
        ""
      ],
      "metadata": {
        "id": "OSBXb9w8WQNO"
      },
      "execution_count": null,
      "outputs": []
    }
  ]
}