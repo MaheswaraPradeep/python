{
  "nbformat": 4,
  "nbformat_minor": 0,
  "metadata": {
    "colab": {
      "name": "Strings.ipynb",
      "provenance": [],
      "collapsed_sections": [],
      "authorship_tag": "ABX9TyONkAcLC+BWRZJboD24nQqj",
      "include_colab_link": true
    },
    "kernelspec": {
      "name": "python3",
      "display_name": "Python 3"
    },
    "language_info": {
      "name": "python"
    }
  },
  "cells": [
    {
      "cell_type": "markdown",
      "metadata": {
        "id": "view-in-github",
        "colab_type": "text"
      },
      "source": [
        "<a href=\"https://colab.research.google.com/github/MaheswaraPradeep/python/blob/main/Strings.ipynb\" target=\"_parent\"><img src=\"https://colab.research.google.com/assets/colab-badge.svg\" alt=\"Open In Colab\"/></a>"
      ]
    },
    {
      "cell_type": "markdown",
      "source": [
        "## Printing string"
      ],
      "metadata": {
        "id": "1fpqNwSo8Hae"
      }
    },
    {
      "cell_type": "code",
      "execution_count": null,
      "metadata": {
        "colab": {
          "base_uri": "https://localhost:8080/"
        },
        "id": "17nN2zek62pg",
        "outputId": "79379068-9ce3-4cbe-c5fd-14b51c38eb0a"
      },
      "outputs": [
        {
          "output_type": "stream",
          "name": "stdout",
          "text": [
            "pradeep\n",
            "<class 'str'>\n",
            "e\n"
          ]
        }
      ],
      "source": [
        "a=\"pradeep\"\n",
        "print(a)\n",
        "print(type(a))\n",
        "print(a[4])"
      ]
    },
    {
      "cell_type": "markdown",
      "source": [
        "## Length of string"
      ],
      "metadata": {
        "id": "i5PWtkBa8LOe"
      }
    },
    {
      "cell_type": "code",
      "source": [
        "a=\"pradeep hello\"\n",
        "print(len(a))"
      ],
      "metadata": {
        "colab": {
          "base_uri": "https://localhost:8080/"
        },
        "id": "KGZgcZrJ7-5x",
        "outputId": "ba1841d2-6689-44f0-911a-cc44707e8c6c"
      },
      "execution_count": null,
      "outputs": [
        {
          "output_type": "stream",
          "name": "stdout",
          "text": [
            "13\n"
          ]
        }
      ]
    },
    {
      "cell_type": "markdown",
      "source": [
        "## Finding a word in string"
      ],
      "metadata": {
        "id": "SeI7ET7e9J46"
      }
    },
    {
      "cell_type": "code",
      "source": [
        "a=\"RRR movie  has been released\"\n",
        "print(\"RRR\" in a)"
      ],
      "metadata": {
        "colab": {
          "base_uri": "https://localhost:8080/"
        },
        "id": "V8EF3PBJ8ryN",
        "outputId": "87a86360-2b7b-4e6c-fcca-a3447a63f01a"
      },
      "execution_count": null,
      "outputs": [
        {
          "output_type": "stream",
          "name": "stdout",
          "text": [
            "True\n"
          ]
        }
      ]
    },
    {
      "cell_type": "code",
      "source": [
        "a=\"RRR movie  has been released\"\n",
        "print(\"Ram charan in RRR\" not in a)"
      ],
      "metadata": {
        "colab": {
          "base_uri": "https://localhost:8080/"
        },
        "id": "3WXiqUU09Yok",
        "outputId": "35a9aa17-f528-4161-983b-8b0f8ddad008"
      },
      "execution_count": null,
      "outputs": [
        {
          "output_type": "stream",
          "name": "stdout",
          "text": [
            "True\n"
          ]
        }
      ]
    },
    {
      "cell_type": "markdown",
      "source": [
        "## Slicing"
      ],
      "metadata": {
        "id": "CcKVPf279r0U"
      }
    },
    {
      "cell_type": "code",
      "source": [
        "a=\"RRR movie  has been released\"\n",
        "print(a[0:11])"
      ],
      "metadata": {
        "colab": {
          "base_uri": "https://localhost:8080/"
        },
        "id": "MFTxdBN-9rU1",
        "outputId": "7792cba4-f611-459e-93b4-1724d1a87a1e"
      },
      "execution_count": null,
      "outputs": [
        {
          "output_type": "stream",
          "name": "stdout",
          "text": [
            "RRR movie  \n"
          ]
        }
      ]
    },
    {
      "cell_type": "markdown",
      "source": [
        "## Modify string"
      ],
      "metadata": {
        "id": "ghPPs1jgYO6i"
      }
    },
    {
      "cell_type": "markdown",
      "source": [
        "### convert to upper case"
      ],
      "metadata": {
        "id": "WBka-SYBZpix"
      }
    },
    {
      "cell_type": "code",
      "source": [
        "a=\"I went to RRR movie\"\n",
        "print(a.upper())"
      ],
      "metadata": {
        "colab": {
          "base_uri": "https://localhost:8080/"
        },
        "id": "YvjEMJfOYMLy",
        "outputId": "e95a8d5e-9e6a-4232-ac83-6b7bdb450091"
      },
      "execution_count": 1,
      "outputs": [
        {
          "output_type": "stream",
          "name": "stdout",
          "text": [
            "I WENT TO RRR MOVIE\n"
          ]
        }
      ]
    },
    {
      "cell_type": "markdown",
      "source": [
        "### convert to lower case"
      ],
      "metadata": {
        "id": "xYG6YYXAZuuB"
      }
    },
    {
      "cell_type": "code",
      "source": [
        "a=\"I went to RRR movie\"\n",
        "print(a.lower())"
      ],
      "metadata": {
        "colab": {
          "base_uri": "https://localhost:8080/"
        },
        "id": "rhGdw-SlYgeO",
        "outputId": "48466844-8b56-4a17-f678-31216cf85f75"
      },
      "execution_count": 2,
      "outputs": [
        {
          "output_type": "stream",
          "name": "stdout",
          "text": [
            "i went to rrr movie\n"
          ]
        }
      ]
    },
    {
      "cell_type": "markdown",
      "source": [
        "### strip to remove white spaces"
      ],
      "metadata": {
        "id": "H1b02HPwZx8B"
      }
    },
    {
      "cell_type": "code",
      "source": [
        "a=\"    I went to RRR movie\"\n",
        "print(a.strip())"
      ],
      "metadata": {
        "colab": {
          "base_uri": "https://localhost:8080/"
        },
        "id": "kRFMwS6RYpPU",
        "outputId": "e24675f3-03a2-4791-9cb9-b52a578545f9"
      },
      "execution_count": 8,
      "outputs": [
        {
          "output_type": "stream",
          "name": "stdout",
          "text": [
            "I went to RRR movie\n"
          ]
        }
      ]
    },
    {
      "cell_type": "markdown",
      "source": [
        "### Replace a string"
      ],
      "metadata": {
        "id": "nZzgz-xfZ2cB"
      }
    },
    {
      "cell_type": "code",
      "source": [
        "a=\"I went to RRR movie\"\n",
        "print(a.replace(\"went\",\"am going\"))\n",
        "print(a)\n",
        "print(a.replace(\"went to\",\"want\"))"
      ],
      "metadata": {
        "colab": {
          "base_uri": "https://localhost:8080/"
        },
        "id": "sOH4yhlNY0rB",
        "outputId": "c1883520-2910-4bdf-8364-dfffb3863d31"
      },
      "execution_count": 11,
      "outputs": [
        {
          "output_type": "stream",
          "name": "stdout",
          "text": [
            "I am going to RRR movie\n",
            "I went to RRR movie\n",
            "I want RRR movie\n"
          ]
        }
      ]
    },
    {
      "cell_type": "markdown",
      "source": [
        "### Split a string"
      ],
      "metadata": {
        "id": "erCDZ1aqZ53h"
      }
    },
    {
      "cell_type": "code",
      "source": [
        "a=\"I went to RRR movie\"\n",
        "print(a.split(\"to\"))\n",
        "print(a.split())"
      ],
      "metadata": {
        "colab": {
          "base_uri": "https://localhost:8080/"
        },
        "id": "169o0C8CZPDK",
        "outputId": "4e6a8ed6-52e5-4e65-81fe-865165754554"
      },
      "execution_count": 12,
      "outputs": [
        {
          "output_type": "stream",
          "name": "stdout",
          "text": [
            "['I went ', ' RRR movie']\n",
            "['I', 'went', 'to', 'RRR', 'movie']\n"
          ]
        }
      ]
    },
    {
      "cell_type": "markdown",
      "source": [
        "## Concantetation of strings"
      ],
      "metadata": {
        "id": "qih_Y-IZc4S5"
      }
    },
    {
      "cell_type": "code",
      "source": [
        "a=\"Radhe Shyam is releasing\"\n",
        "b=\"in amazon prime\"\n",
        "c=a+b\n",
        "print(c)"
      ],
      "metadata": {
        "colab": {
          "base_uri": "https://localhost:8080/"
        },
        "id": "gsGuY07MZmWa",
        "outputId": "5ae7ff2b-4640-4ce5-f3bd-5226c89b4e78"
      },
      "execution_count": 17,
      "outputs": [
        {
          "output_type": "stream",
          "name": "stdout",
          "text": [
            "Radhe Shyam is releasingin amazon prime\n"
          ]
        }
      ]
    },
    {
      "cell_type": "markdown",
      "source": [
        "### with white space between them"
      ],
      "metadata": {
        "id": "Mw8jzdiddrio"
      }
    },
    {
      "cell_type": "code",
      "source": [
        "a=\"Radhe Shyam is releasing\"\n",
        "b=\"123\"\n",
        "c=a+\" \"+b\n",
        "print(c)"
      ],
      "metadata": {
        "colab": {
          "base_uri": "https://localhost:8080/"
        },
        "id": "gISG7mA-dZyz",
        "outputId": "cf13cbf4-a92e-4d62-aeeb-a5291fb2648e"
      },
      "execution_count": 25,
      "outputs": [
        {
          "output_type": "stream",
          "name": "stdout",
          "text": [
            "Radhe Shyam is releasing 123\n"
          ]
        }
      ]
    },
    {
      "cell_type": "code",
      "source": [
        "a=123\n",
        "b=\"Hello {}\"\n",
        "print(b.format(a))"
      ],
      "metadata": {
        "colab": {
          "base_uri": "https://localhost:8080/"
        },
        "id": "41hKik4ufnkr",
        "outputId": "424109bd-28c6-4f6a-b4d1-9394557e425a"
      },
      "execution_count": 28,
      "outputs": [
        {
          "output_type": "stream",
          "name": "stdout",
          "text": [
            "Hello 123\n"
          ]
        }
      ]
    },
    {
      "cell_type": "code",
      "source": [
        "a=\"I am goint to RRR on {}nd april {}\"\n",
        "b=2\n",
        "c=2022\n",
        "print(a.format(b,c))\n"
      ],
      "metadata": {
        "colab": {
          "base_uri": "https://localhost:8080/"
        },
        "id": "433PlpovgtxU",
        "outputId": "bcbe4b2f-62bd-47d1-ffbf-b66cade94f14"
      },
      "execution_count": 29,
      "outputs": [
        {
          "output_type": "stream",
          "name": "stdout",
          "text": [
            "I am goint to RRR on 2nd april 2022\n"
          ]
        }
      ]
    },
    {
      "cell_type": "code",
      "source": [
        "price=519\n",
        "quantity=2\n",
        "itemno=321\n",
        "myorder=\"I want to pay {} dollars for {} cool drinks of {} item number\"\n",
        "print(myorder.format(price,quantity,itemno))"
      ],
      "metadata": {
        "colab": {
          "base_uri": "https://localhost:8080/"
        },
        "id": "NehmZ24ZhGzy",
        "outputId": "06edb95b-9a1b-429c-afb0-7abdf9a4d3ef"
      },
      "execution_count": 32,
      "outputs": [
        {
          "output_type": "stream",
          "name": "stdout",
          "text": [
            "I want to pay 519 dollars for 2 cool drinks of 321 item number\n"
          ]
        }
      ]
    },
    {
      "cell_type": "code",
      "source": [
        "price=1000\n",
        "year=1\n",
        "date=13\n",
        "myorder=\"I want to pay {1} rupee for amazon prime of time period {0} years on {2} april\"\n",
        "print(myorder.format(price,year,date))"
      ],
      "metadata": {
        "colab": {
          "base_uri": "https://localhost:8080/"
        },
        "id": "FojeTnU4ibrD",
        "outputId": "ccb03d5e-6ee9-4ed1-980f-26d13d341379"
      },
      "execution_count": 36,
      "outputs": [
        {
          "output_type": "stream",
          "name": "stdout",
          "text": [
            "I want to pay 1 rupee for amazon prime of time period 1000 years on 13 april\n"
          ]
        }
      ]
    },
    {
      "cell_type": "code",
      "source": [
        "s1=int(input(\"Enter maths marks\"))\n",
        "s2=int(input(\"Enter science marks\"))\n",
        "s3=int(input(\"Enter python marks\"))\n",
        "s4=int(input(\"Enter mech marks\"))1'\n",
        "a=\"I got {0} marks in maths,{1} marks in science,{3} marks in mech and {2} marks in python \"\n",
        "print(a.format(s1,s2,s3,s4))"
      ],
      "metadata": {
        "colab": {
          "base_uri": "https://localhost:8080/"
        },
        "id": "VVkWDzZUjiZc",
        "outputId": "6232d2fa-eaaa-4650-e645-99bda5e837e0"
      },
      "execution_count": 40,
      "outputs": [
        {
          "output_type": "stream",
          "name": "stdout",
          "text": [
            "Enter maths marks90\n",
            "Enter science marks98\n",
            "Enter python marks89\n",
            "Enter mech marks00\n",
            "I got 90 marks in maths,98 marks in science,0 marks in mech and 89 marks in python \n"
          ]
        }
      ]
    },
    {
      "cell_type": "code",
      "source": [
        "a=\"Hello\\nworld\"\n",
        "print(a)\n",
        "b=\"Hello \\tworld\"\n",
        "print(b)\n",
        "c=\"Hello \\bworld\"\n",
        "print(c)"
      ],
      "metadata": {
        "colab": {
          "base_uri": "https://localhost:8080/"
        },
        "id": "8jPs_z8bl8d8",
        "outputId": "a567d899-15f2-4f7d-8da4-61678276ec8d"
      },
      "execution_count": 49,
      "outputs": [
        {
          "output_type": "stream",
          "name": "stdout",
          "text": [
            "Hello\n",
            "world\n",
            "Hello \tworld\n",
            "Hello \bworld\n"
          ]
        }
      ]
    },
    {
      "cell_type": "code",
      "source": [
        "a=\"Sakaru vari paata will be a \\\"disaster\\\".\"\n",
        "print(a)"
      ],
      "metadata": {
        "colab": {
          "base_uri": "https://localhost:8080/"
        },
        "id": "nhOneKrxnpqo",
        "outputId": "76354512-92f7-4bd8-cbac-251d449b900a"
      },
      "execution_count": 52,
      "outputs": [
        {
          "output_type": "stream",
          "name": "stdout",
          "text": [
            "Sakaru vari paata will be a \"disaster\".\n"
          ]
        }
      ]
    },
    {
      "cell_type": "code",
      "source": [
        "a=\"\\110\\145\\154\\154\\157\"\n",
        "print(a)"
      ],
      "metadata": {
        "colab": {
          "base_uri": "https://localhost:8080/"
        },
        "id": "A4RRi5zaowsT",
        "outputId": "793761b6-bbe5-4245-bbc1-3bdf89d98198"
      },
      "execution_count": 53,
      "outputs": [
        {
          "output_type": "stream",
          "name": "stdout",
          "text": [
            "Hello\n"
          ]
        }
      ]
    },
    {
      "cell_type": "markdown",
      "source": [
        "## String methods"
      ],
      "metadata": {
        "id": "k8bK4oFirK_z"
      }
    },
    {
      "cell_type": "code",
      "source": [
        "a=\"pradeep\"\n",
        "b=a.capitalize()\n",
        "print(b)"
      ],
      "metadata": {
        "colab": {
          "base_uri": "https://localhost:8080/"
        },
        "id": "ZTcMTWKHqaON",
        "outputId": "aa7ac508-f60a-4662-ea8d-6c385b0ca9c7"
      },
      "execution_count": 54,
      "outputs": [
        {
          "output_type": "stream",
          "name": "stdout",
          "text": [
            "Pradeep\n"
          ]
        }
      ]
    },
    {
      "cell_type": "code",
      "source": [
        "a=\"Pradeep\"\n",
        "b=a.casefold()\n",
        "print(b)"
      ],
      "metadata": {
        "colab": {
          "base_uri": "https://localhost:8080/"
        },
        "id": "UegySWlurFFt",
        "outputId": "6925b7e3-67d5-428e-dc8f-43b7ce3d56c8"
      },
      "execution_count": 55,
      "outputs": [
        {
          "output_type": "stream",
          "name": "stdout",
          "text": [
            "pradeep\n"
          ]
        }
      ]
    },
    {
      "cell_type": "code",
      "source": [
        "a=\"Hello Mr hemakesh\"\n",
        "b=a.center(30)\n",
        "print(b)"
      ],
      "metadata": {
        "colab": {
          "base_uri": "https://localhost:8080/"
        },
        "id": "8560s5omraMc",
        "outputId": "6ca7eef2-b6d3-4e87-f495-868cb859245e"
      },
      "execution_count": 59,
      "outputs": [
        {
          "output_type": "stream",
          "name": "stdout",
          "text": [
            "      Hello Mr hemakesh       \n"
          ]
        }
      ]
    },
    {
      "cell_type": "code",
      "source": [
        "a=\"Hello world welcome to my world\"\n",
        "b=a.count(\"\")\n",
        "print(b)\n",
        "print(len(a))"
      ],
      "metadata": {
        "colab": {
          "base_uri": "https://localhost:8080/"
        },
        "id": "PyjfWFUVruS8",
        "outputId": "3243728f-f1c9-46e5-8460-8de052ee688f"
      },
      "execution_count": 62,
      "outputs": [
        {
          "output_type": "stream",
          "name": "stdout",
          "text": [
            "32\n",
            "31\n"
          ]
        }
      ]
    }
  ]
}