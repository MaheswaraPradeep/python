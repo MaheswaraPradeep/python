{
  "nbformat": 4,
  "nbformat_minor": 0,
  "metadata": {
    "colab": {
      "name": "Strings.ipynb",
      "provenance": [],
      "collapsed_sections": [],
      "authorship_tag": "ABX9TyNNz9PjsxW871cWkISMImt+",
      "include_colab_link": true
    },
    "kernelspec": {
      "name": "python3",
      "display_name": "Python 3"
    },
    "language_info": {
      "name": "python"
    }
  },
  "cells": [
    {
      "cell_type": "markdown",
      "metadata": {
        "id": "view-in-github",
        "colab_type": "text"
      },
      "source": [
        "<a href=\"https://colab.research.google.com/github/MaheswaraPradeep/python/blob/main/Strings.ipynb\" target=\"_parent\"><img src=\"https://colab.research.google.com/assets/colab-badge.svg\" alt=\"Open In Colab\"/></a>"
      ]
    },
    {
      "cell_type": "markdown",
      "source": [
        "## Printing string"
      ],
      "metadata": {
        "id": "1fpqNwSo8Hae"
      }
    },
    {
      "cell_type": "code",
      "execution_count": 6,
      "metadata": {
        "colab": {
          "base_uri": "https://localhost:8080/"
        },
        "id": "17nN2zek62pg",
        "outputId": "79379068-9ce3-4cbe-c5fd-14b51c38eb0a"
      },
      "outputs": [
        {
          "output_type": "stream",
          "name": "stdout",
          "text": [
            "pradeep\n",
            "<class 'str'>\n",
            "e\n"
          ]
        }
      ],
      "source": [
        "a=\"pradeep\"\n",
        "print(a)\n",
        "print(type(a))\n",
        "print(a[4])"
      ]
    },
    {
      "cell_type": "markdown",
      "source": [
        "## Length of string"
      ],
      "metadata": {
        "id": "i5PWtkBa8LOe"
      }
    },
    {
      "cell_type": "code",
      "source": [
        "a=\"pradeep hello\"\n",
        "print(len(a))"
      ],
      "metadata": {
        "colab": {
          "base_uri": "https://localhost:8080/"
        },
        "id": "KGZgcZrJ7-5x",
        "outputId": "ba1841d2-6689-44f0-911a-cc44707e8c6c"
      },
      "execution_count": 8,
      "outputs": [
        {
          "output_type": "stream",
          "name": "stdout",
          "text": [
            "13\n"
          ]
        }
      ]
    },
    {
      "cell_type": "markdown",
      "source": [
        "## Finding a word in string"
      ],
      "metadata": {
        "id": "SeI7ET7e9J46"
      }
    },
    {
      "cell_type": "code",
      "source": [
        "a=\"RRR movie  has been released\"\n",
        "print(\"RRR\" in a)"
      ],
      "metadata": {
        "colab": {
          "base_uri": "https://localhost:8080/"
        },
        "id": "V8EF3PBJ8ryN",
        "outputId": "87a86360-2b7b-4e6c-fcca-a3447a63f01a"
      },
      "execution_count": 10,
      "outputs": [
        {
          "output_type": "stream",
          "name": "stdout",
          "text": [
            "True\n"
          ]
        }
      ]
    },
    {
      "cell_type": "code",
      "source": [
        "a=\"RRR movie  has been released\"\n",
        "print(\"Ram charan in RRR\" not in a)"
      ],
      "metadata": {
        "colab": {
          "base_uri": "https://localhost:8080/"
        },
        "id": "3WXiqUU09Yok",
        "outputId": "35a9aa17-f528-4161-983b-8b0f8ddad008"
      },
      "execution_count": 12,
      "outputs": [
        {
          "output_type": "stream",
          "name": "stdout",
          "text": [
            "True\n"
          ]
        }
      ]
    },
    {
      "cell_type": "markdown",
      "source": [
        "## Slicing"
      ],
      "metadata": {
        "id": "CcKVPf279r0U"
      }
    },
    {
      "cell_type": "code",
      "source": [
        "a=\"RRR movie  has been released\"\n",
        "print(a[0:11])"
      ],
      "metadata": {
        "colab": {
          "base_uri": "https://localhost:8080/"
        },
        "id": "MFTxdBN-9rU1",
        "outputId": "7792cba4-f611-459e-93b4-1724d1a87a1e"
      },
      "execution_count": 16,
      "outputs": [
        {
          "output_type": "stream",
          "name": "stdout",
          "text": [
            "RRR movie  \n"
          ]
        }
      ]
    }
  ]
}