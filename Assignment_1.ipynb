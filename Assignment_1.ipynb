{
  "nbformat": 4,
  "nbformat_minor": 0,
  "metadata": {
    "colab": {
      "name": "Assignment 1.ipynb",
      "provenance": [],
      "collapsed_sections": [],
      "authorship_tag": "ABX9TyMIbCPH+5CfcAcXBJCZm+yL",
      "include_colab_link": true
    },
    "kernelspec": {
      "name": "python3",
      "display_name": "Python 3"
    },
    "language_info": {
      "name": "python"
    }
  },
  "cells": [
    {
      "cell_type": "markdown",
      "metadata": {
        "id": "view-in-github",
        "colab_type": "text"
      },
      "source": [
        "<a href=\"https://colab.research.google.com/github/MaheswaraPradeep/python/blob/main/Assignment_1.ipynb\" target=\"_parent\"><img src=\"https://colab.research.google.com/assets/colab-badge.svg\" alt=\"Open In Colab\"/></a>"
      ]
    },
    {
      "cell_type": "markdown",
      "source": [
        "## Printing a list"
      ],
      "metadata": {
        "id": "RuD-pxm89yWn"
      }
    },
    {
      "cell_type": "code",
      "source": [
        "pradeep=[\"hi\",\"hello\",\"bye\"]\n",
        "print(pradeep)"
      ],
      "metadata": {
        "colab": {
          "base_uri": "https://localhost:8080/"
        },
        "id": "CMB2pmuD9YPJ",
        "outputId": "d977bf42-c94c-446a-f728-636a4a9e48bf"
      },
      "execution_count": 26,
      "outputs": [
        {
          "output_type": "stream",
          "name": "stdout",
          "text": [
            "['hi', 'hello', 'bye']\n"
          ]
        }
      ]
    },
    {
      "cell_type": "markdown",
      "source": [
        "## lists with duplicates"
      ],
      "metadata": {
        "id": "EYZTJxiX-VUN"
      }
    },
    {
      "cell_type": "code",
      "source": [
        "pradeep=[1,1,\"welcome\",\"application\"]\n",
        "print(pradeep)"
      ],
      "metadata": {
        "colab": {
          "base_uri": "https://localhost:8080/"
        },
        "id": "UsjAJTEP91ax",
        "outputId": "3440659b-df40-4d0c-98b7-4bcfa969a88b"
      },
      "execution_count": 27,
      "outputs": [
        {
          "output_type": "stream",
          "name": "stdout",
          "text": [
            "[1, 1, 'welcome', 'application']\n"
          ]
        }
      ]
    },
    {
      "cell_type": "markdown",
      "source": [
        "## length of list"
      ],
      "metadata": {
        "id": "LHZGvLgI-jHT"
      }
    },
    {
      "cell_type": "code",
      "source": [
        "pradeep=[1,1,\"welcome\",\"application\"]\n",
        "print(len(pradeep))"
      ],
      "metadata": {
        "colab": {
          "base_uri": "https://localhost:8080/"
        },
        "id": "SQVr1l67-cWM",
        "outputId": "b2d43045-f8c7-4d5a-a440-e4863cb000f4"
      },
      "execution_count": 28,
      "outputs": [
        {
          "output_type": "stream",
          "name": "stdout",
          "text": [
            "4\n"
          ]
        }
      ]
    },
    {
      "cell_type": "markdown",
      "source": [
        "## list containg multiple datatypes"
      ],
      "metadata": {
        "id": "v99gv0QK-3DY"
      }
    },
    {
      "cell_type": "code",
      "source": [
        "pradeep=[True,1,\"hello\",\"world\"]\n",
        "print(pradeep)"
      ],
      "metadata": {
        "colab": {
          "base_uri": "https://localhost:8080/"
        },
        "id": "Bf-YRcU9-mVF",
        "outputId": "83cc2cfd-9ea9-4925-a67a-1e1bf773a269"
      },
      "execution_count": 29,
      "outputs": [
        {
          "output_type": "stream",
          "name": "stdout",
          "text": [
            "[True, 1, 'hello', 'world']\n"
          ]
        }
      ]
    },
    {
      "cell_type": "markdown",
      "source": [
        "## datatype of list"
      ],
      "metadata": {
        "id": "A5f9n6Os_GJt"
      }
    },
    {
      "cell_type": "code",
      "source": [
        "pradeep=[True,1,\"hello\",\"world\"]\n",
        "print(type(pradeep))"
      ],
      "metadata": {
        "colab": {
          "base_uri": "https://localhost:8080/"
        },
        "id": "q4gGv6SY-8YQ",
        "outputId": "2380143f-978b-40ec-f929-81b4936700f0"
      },
      "execution_count": 30,
      "outputs": [
        {
          "output_type": "stream",
          "name": "stdout",
          "text": [
            "<class 'list'>\n"
          ]
        }
      ]
    },
    {
      "cell_type": "markdown",
      "source": [
        "## building a list with double paranthesis"
      ],
      "metadata": {
        "id": "Qy5xRNyr_fqP"
      }
    },
    {
      "cell_type": "code",
      "source": [
        "pradeep=((\"hi\",\"Good morning\",\"hello\")) #we can use double parenthesis also to build a list\n",
        "print(pradeep)"
      ],
      "metadata": {
        "colab": {
          "base_uri": "https://localhost:8080/"
        },
        "id": "oXpzEXV6_K6v",
        "outputId": "590ebd66-3f1b-4022-db48-1e0095082abc"
      },
      "execution_count": 31,
      "outputs": [
        {
          "output_type": "stream",
          "name": "stdout",
          "text": [
            "('hi', 'Good morning', 'hello')\n"
          ]
        }
      ]
    },
    {
      "cell_type": "markdown",
      "source": [
        "## Accessing a list item"
      ],
      "metadata": {
        "id": "wm1ngMML_012"
      }
    },
    {
      "cell_type": "code",
      "source": [
        "pradeep=[\"apple\", \"banana\", \"cherry\",\"Jackfruit\"]\n",
        "print(pradeep[2])"
      ],
      "metadata": {
        "colab": {
          "base_uri": "https://localhost:8080/"
        },
        "id": "SzUGxrUc_qVD",
        "outputId": "86f90be8-594c-4798-cd81-a55df7bf8506"
      },
      "execution_count": 32,
      "outputs": [
        {
          "output_type": "stream",
          "name": "stdout",
          "text": [
            "cherry\n"
          ]
        }
      ]
    },
    {
      "cell_type": "markdown",
      "source": [
        "## negative indexing to access last item"
      ],
      "metadata": {
        "id": "4brVJ1Bj_-1e"
      }
    },
    {
      "cell_type": "code",
      "source": [
        "pradeep=[\"apple\", \"banana\", \"cherry\",\"Jackfruit\"]\n",
        "print(pradeep[-1]) #use -1 to get last item and -2 to get last before item"
      ],
      "metadata": {
        "colab": {
          "base_uri": "https://localhost:8080/"
        },
        "id": "vQ1Dp-PS_46A",
        "outputId": "ebb177f6-b584-44b5-8daf-b509ca59a474"
      },
      "execution_count": 33,
      "outputs": [
        {
          "output_type": "stream",
          "name": "stdout",
          "text": [
            "Jackfruit\n"
          ]
        }
      ]
    },
    {
      "cell_type": "markdown",
      "source": [
        "## Accesing items using range of index"
      ],
      "metadata": {
        "id": "cgl-nEl2AZNH"
      }
    },
    {
      "cell_type": "code",
      "source": [
        "pradeep=[\"apple\", \"banana\", \"cherry\",\"Jackfruit\",\"Avocado\"]\n",
        "print(pradeep[1:3]) # in the result the first index number and so on is printed until excluding the last range given"
      ],
      "metadata": {
        "colab": {
          "base_uri": "https://localhost:8080/"
        },
        "id": "Gq7zCN_3ALPk",
        "outputId": "3bd5a446-fa08-40ac-ab1f-90101cdccf8c"
      },
      "execution_count": 34,
      "outputs": [
        {
          "output_type": "stream",
          "name": "stdout",
          "text": [
            "['banana', 'cherry']\n"
          ]
        }
      ]
    },
    {
      "cell_type": "code",
      "source": [
        "pradeep=[\"apple\", \"banana\", \"cherry\",\"Jackfruit\",\"Avocado\"]\n",
        "print(pradeep[:3]) #prints item from beginning to not including jackfruit"
      ],
      "metadata": {
        "colab": {
          "base_uri": "https://localhost:8080/"
        },
        "id": "QN8WuLoUAxOZ",
        "outputId": "2e0f5271-d680-41de-e1a7-e765373d8b26"
      },
      "execution_count": 35,
      "outputs": [
        {
          "output_type": "stream",
          "name": "stdout",
          "text": [
            "['apple', 'banana', 'cherry']\n"
          ]
        }
      ]
    },
    {
      "cell_type": "code",
      "source": [
        "pradeep=[\"apple\", \"banana\", \"cherry\",\"Jackfruit\",\"Avocado\"]\n",
        "print(pradeep[1:]) #prints item from banana to end"
      ],
      "metadata": {
        "colab": {
          "base_uri": "https://localhost:8080/"
        },
        "id": "rznou1T5BVT0",
        "outputId": "be0093cf-d38d-4b94-8562-bafac3cef878"
      },
      "execution_count": 36,
      "outputs": [
        {
          "output_type": "stream",
          "name": "stdout",
          "text": [
            "['banana', 'cherry', 'Jackfruit', 'Avocado']\n"
          ]
        }
      ]
    },
    {
      "cell_type": "markdown",
      "source": [
        "## Range of Negative Indexes"
      ],
      "metadata": {
        "id": "5LyarXr-ByWx"
      }
    },
    {
      "cell_type": "code",
      "source": [
        "pradeep=[\"apple\", \"banana\", \"cherry\",\"Jackfruit\",\"Avocado\"]\n",
        "print(pradeep[-4:-1]) #prints item from banana to not including last one"
      ],
      "metadata": {
        "colab": {
          "base_uri": "https://localhost:8080/"
        },
        "id": "ik_K64FbBfL5",
        "outputId": "3e2b2bf5-f75e-4462-9e87-2693f2bbd918"
      },
      "execution_count": 37,
      "outputs": [
        {
          "output_type": "stream",
          "name": "stdout",
          "text": [
            "['banana', 'cherry', 'Jackfruit']\n"
          ]
        }
      ]
    },
    {
      "cell_type": "markdown",
      "source": [
        "## Check if Item Exists"
      ],
      "metadata": {
        "id": "v8HExPdrCKD2"
      }
    },
    {
      "cell_type": "code",
      "source": [
        "pradeep=[\"apple\", \"banana\", \"cherry\",\"Jackfruit\",\"Avocado\"]\n",
        "if \"cherry\" in pradeep:\n",
        "  print(\"Yes cherry is in pradeep\") "
      ],
      "metadata": {
        "colab": {
          "base_uri": "https://localhost:8080/"
        },
        "id": "OogICihtB3ac",
        "outputId": "16761f00-adbb-4711-ef2d-ecc0eee100ab"
      },
      "execution_count": 38,
      "outputs": [
        {
          "output_type": "stream",
          "name": "stdout",
          "text": [
            "Yes cherry is in pradeep\n"
          ]
        }
      ]
    },
    {
      "cell_type": "markdown",
      "source": [
        "## To change the value of a specific item, refer to the index number:"
      ],
      "metadata": {
        "id": "TptAU785Cfjx"
      }
    },
    {
      "cell_type": "code",
      "source": [
        "pradeep=[\"apple\",\"avocado\",\"banana\",\"cherry\",\"kiwi\"]\n",
        "pradeep[2]=[\"jack fruit\"]\n",
        "print(pradeep)"
      ],
      "metadata": {
        "colab": {
          "base_uri": "https://localhost:8080/"
        },
        "id": "3bOIFFEXCM3Q",
        "outputId": "8b137f00-4887-44bd-8723-4c538ab50a7a"
      },
      "execution_count": 39,
      "outputs": [
        {
          "output_type": "stream",
          "name": "stdout",
          "text": [
            "['apple', 'avocado', 'jack fruit', 'cherry', 'kiwi']\n"
          ]
        }
      ]
    },
    {
      "cell_type": "markdown",
      "source": [
        "## Change a Range of Item Values"
      ],
      "metadata": {
        "id": "MHVTvNBXDFGJ"
      }
    },
    {
      "cell_type": "code",
      "source": [
        "pradeep=[\"apple\",\"avocado\",\"banana\",\"cherry\",\"kiwi\"]\n",
        "pradeep[2:4]=[\"jack fruit\",\"orange\"]\n",
        "print(pradeep)"
      ],
      "metadata": {
        "colab": {
          "base_uri": "https://localhost:8080/"
        },
        "id": "RWIJ2em6Cks-",
        "outputId": "2120d853-bc94-498e-f982-df3899c2fde2"
      },
      "execution_count": 43,
      "outputs": [
        {
          "output_type": "stream",
          "name": "stdout",
          "text": [
            "['apple', 'avocado', 'jack fruit', 'orange', 'kiwi']\n"
          ]
        }
      ]
    },
    {
      "cell_type": "code",
      "source": [
        "pradeep=[\"apple\",\"avocado\",\"banana\",\"cherry\",]\n",
        "pradeep[2:4]=[\"jack fruit\",\"orange\",\"berries\"]\n",
        "print(pradeep)"
      ],
      "metadata": {
        "colab": {
          "base_uri": "https://localhost:8080/"
        },
        "id": "ONhQ1ymDDIYw",
        "outputId": "ed6d82dc-0090-4f43-a423-f74de6899a71"
      },
      "execution_count": 45,
      "outputs": [
        {
          "output_type": "stream",
          "name": "stdout",
          "text": [
            "['apple', 'avocado', 'jack fruit', 'orange', 'berries']\n"
          ]
        }
      ]
    },
    {
      "cell_type": "code",
      "source": [
        "pradeep=[\"apple\",\"avocado\",\"banana\"]\n",
        "pradeep[1:3]=[\"jack fruit\"]\n",
        "print(pradeep)"
      ],
      "metadata": {
        "colab": {
          "base_uri": "https://localhost:8080/"
        },
        "id": "DVBV5CdhDdS7",
        "outputId": "4f60d931-425d-4283-c405-23d7e44726c0"
      },
      "execution_count": 48,
      "outputs": [
        {
          "output_type": "stream",
          "name": "stdout",
          "text": [
            "['apple', 'jack fruit']\n"
          ]
        }
      ]
    },
    {
      "cell_type": "markdown",
      "source": [
        "## Append Items"
      ],
      "metadata": {
        "id": "CVxjG14iEIRP"
      }
    },
    {
      "cell_type": "code",
      "source": [
        "pradeep=[\"apple\",\"avocado\",\"banana\"]\n",
        "pradeep.append(\"berry\")\n",
        "print(pradeep)"
      ],
      "metadata": {
        "colab": {
          "base_uri": "https://localhost:8080/"
        },
        "id": "9tFdGWv2DYmB",
        "outputId": "e43b6b93-47b7-4354-c3e0-e20fb653ca95"
      },
      "execution_count": 49,
      "outputs": [
        {
          "output_type": "stream",
          "name": "stdout",
          "text": [
            "['apple', 'avocado', 'banana', 'berry']\n"
          ]
        }
      ]
    },
    {
      "cell_type": "markdown",
      "source": [
        "## Insert Items"
      ],
      "metadata": {
        "id": "FU4d288xEWGN"
      }
    },
    {
      "cell_type": "code",
      "source": [
        "pradeep=[\"apple\",\"avocado\",\"banana\",\"@#\",3]\n",
        "pradeep.insert(2,\"berry\")\n",
        "print(pradeep)"
      ],
      "metadata": {
        "colab": {
          "base_uri": "https://localhost:8080/"
        },
        "id": "teJA7wRHELrt",
        "outputId": "5f9c70db-bca6-4092-e568-417dabd6bc02"
      },
      "execution_count": 51,
      "outputs": [
        {
          "output_type": "stream",
          "name": "stdout",
          "text": [
            "['apple', 'avocado', 'berry', 'banana', '@#', 3]\n"
          ]
        }
      ]
    },
    {
      "cell_type": "markdown",
      "source": [
        "## Adding using extend"
      ],
      "metadata": {
        "id": "_r6vzmf7ExGH"
      }
    },
    {
      "cell_type": "code",
      "source": [
        "pradeep=[\"apple\",\"avocado\",\"banana\",\"@#\",3]\n",
        "maheswar=[\"guava\",\"ice cream\",\"%\"]\n",
        "pradeep.extend(maheswar)\n",
        "print(pradeep)"
      ],
      "metadata": {
        "colab": {
          "base_uri": "https://localhost:8080/"
        },
        "id": "LpK6mQ5aEY8R",
        "outputId": "7afd9f92-581e-486a-f256-91f05199504c"
      },
      "execution_count": 52,
      "outputs": [
        {
          "output_type": "stream",
          "name": "stdout",
          "text": [
            "['apple', 'avocado', 'banana', '@#', 3, 'guava', 'ice cream', '%']\n"
          ]
        }
      ]
    },
    {
      "cell_type": "code",
      "source": [
        "pradeep=[\"apple\",\"avocado\",\"banana\",\"@#\",3]\n",
        "maheswar=(\"guava\",\"ice cream\")\n",
        "pradeep.extend(maheswar)\n",
        "print(pradeep)"
      ],
      "metadata": {
        "colab": {
          "base_uri": "https://localhost:8080/"
        },
        "id": "WhOzFI8KE2lM",
        "outputId": "3ac44190-cfb6-482f-99e4-c0a9cdf7e529"
      },
      "execution_count": 53,
      "outputs": [
        {
          "output_type": "stream",
          "name": "stdout",
          "text": [
            "['apple', 'avocado', 'banana', '@#', 3, 'guava', 'ice cream']\n"
          ]
        }
      ]
    },
    {
      "cell_type": "markdown",
      "source": [
        "## Removing an item using remove"
      ],
      "metadata": {
        "id": "7J7IUMx_FRAQ"
      }
    },
    {
      "cell_type": "code",
      "source": [
        "pradeep=[\"apple\",\"avocado\",\"banana\",\"@#\",3]\n",
        "pradeep.remove(\"banana\")\n",
        "print(pradeep)"
      ],
      "metadata": {
        "colab": {
          "base_uri": "https://localhost:8080/"
        },
        "id": "M5MWNxv-FGDj",
        "outputId": "5cf086c0-ed0c-479b-cac3-de6def96724d"
      },
      "execution_count": 54,
      "outputs": [
        {
          "output_type": "stream",
          "name": "stdout",
          "text": [
            "['apple', 'avocado', '@#', 3]\n"
          ]
        }
      ]
    },
    {
      "cell_type": "markdown",
      "source": [
        "## Removing a specified index item using pop"
      ],
      "metadata": {
        "id": "p5CnYJmzFZJf"
      }
    },
    {
      "cell_type": "code",
      "source": [
        "pradeep = [\"apple\", \"banana\", \"cherry\",\"Jackfruit\"]\n",
        "pradeep.pop(2)\n",
        "print(pradeep)"
      ],
      "metadata": {
        "colab": {
          "base_uri": "https://localhost:8080/"
        },
        "id": "JWlpobVUFW45",
        "outputId": "f08e3c66-2d0b-4cb6-b460-b4ca15409d1a"
      },
      "execution_count": 55,
      "outputs": [
        {
          "output_type": "stream",
          "name": "stdout",
          "text": [
            "['apple', 'banana', 'Jackfruit']\n"
          ]
        }
      ]
    },
    {
      "cell_type": "markdown",
      "source": [
        "## Removing last item using pop"
      ],
      "metadata": {
        "id": "KVIBVan6FjXd"
      }
    },
    {
      "cell_type": "code",
      "source": [
        "pradeep = [\"apple\", \"banana\", \"cherry\",\"Jackfruit\"]\n",
        "pradeep.pop()\n",
        "print(pradeep)"
      ],
      "metadata": {
        "colab": {
          "base_uri": "https://localhost:8080/"
        },
        "id": "PMaURiMRzr4p",
        "outputId": "7df6a069-2281-4b20-f01c-21e661188271"
      },
      "execution_count": null,
      "outputs": [
        {
          "output_type": "stream",
          "name": "stdout",
          "text": [
            "['apple', 'banana', 'cherry']\n"
          ]
        }
      ]
    },
    {
      "cell_type": "markdown",
      "source": [
        "# Removing a specified index item using del"
      ],
      "metadata": {
        "id": "afpgrb8OFsCd"
      }
    },
    {
      "cell_type": "code",
      "source": [
        "pradeep = [\"apple\", \"banana\", \"cherry\",\"Jackfruit\"]\n",
        "del pradeep[2]\n",
        "print(pradeep)"
      ],
      "metadata": {
        "colab": {
          "base_uri": "https://localhost:8080/"
        },
        "id": "r5kIKbqkz6eS",
        "outputId": "9f2d3093-5138-4a22-f99b-5c7194709b76"
      },
      "execution_count": null,
      "outputs": [
        {
          "output_type": "stream",
          "name": "stdout",
          "text": [
            "['apple', 'banana', 'Jackfruit']\n"
          ]
        }
      ]
    },
    {
      "cell_type": "markdown",
      "source": [
        "# Removing list using del"
      ],
      "metadata": {
        "id": "pIlDHLqdFwVt"
      }
    },
    {
      "cell_type": "code",
      "source": [
        "pradeep = [\"apple\", \"banana\", \"cherry\",\"Jackfruit\"]\n",
        "del pradeep\n"
      ],
      "metadata": {
        "id": "akAKntex0NbF"
      },
      "execution_count": null,
      "outputs": []
    },
    {
      "cell_type": "markdown",
      "source": [
        "## Emptying list using clear"
      ],
      "metadata": {
        "id": "Nh7JLfRJF4uB"
      }
    },
    {
      "cell_type": "code",
      "source": [
        "pradeep = [\"apple\", \"banana\", \"cherry\",\"Jackfruit\"]\n",
        "pradeep.clear()\n",
        "print(pradeep)"
      ],
      "metadata": {
        "colab": {
          "base_uri": "https://localhost:8080/"
        },
        "id": "8ymIgjRl0Stk",
        "outputId": "f298a30c-516c-4128-e2fc-d4acb40e4d7b"
      },
      "execution_count": null,
      "outputs": [
        {
          "output_type": "stream",
          "name": "stdout",
          "text": [
            "[]\n"
          ]
        }
      ]
    },
    {
      "cell_type": "markdown",
      "source": [
        "## Acces items using for loop"
      ],
      "metadata": {
        "id": "nqDKejo8F-0i"
      }
    },
    {
      "cell_type": "code",
      "source": [
        "pradeep= [\"apple\", \"banana\", \"cherry\",\"Jackfruit\"]\n",
        "for x in pradeep:\n",
        "  print(x)"
      ],
      "metadata": {
        "colab": {
          "base_uri": "https://localhost:8080/"
        },
        "id": "gudEgxyb0cio",
        "outputId": "acfda32e-4db7-4d63-a968-8aaff9387bc9"
      },
      "execution_count": null,
      "outputs": [
        {
          "output_type": "stream",
          "name": "stdout",
          "text": [
            "apple\n",
            "banana\n",
            "cherry\n",
            "Jackfruit\n"
          ]
        }
      ]
    },
    {
      "cell_type": "markdown",
      "source": [
        "# Access specified index item using for loop"
      ],
      "metadata": {
        "id": "C1lvXS2QGFTy"
      }
    },
    {
      "cell_type": "code",
      "source": [
        "pradeep= [\"apple\", \"banana\", \"cherry\",\"Jackfruit\"]\n",
        "for i in range(len(pradeep)):\n",
        "  print(pradeep[i])"
      ],
      "metadata": {
        "colab": {
          "base_uri": "https://localhost:8080/"
        },
        "id": "9xRJ5OEY1ci5",
        "outputId": "b728477d-c4e4-4f82-9f9a-d257dc98206c"
      },
      "execution_count": null,
      "outputs": [
        {
          "output_type": "stream",
          "name": "stdout",
          "text": [
            "apple\n",
            "banana\n",
            "cherry\n",
            "Jackfruit\n"
          ]
        }
      ]
    },
    {
      "cell_type": "markdown",
      "source": [
        "# Access specified index item using while loop"
      ],
      "metadata": {
        "id": "k-acm5PzGLmk"
      }
    },
    {
      "cell_type": "code",
      "source": [
        "pradeep= [\"apple\", \"banana\", \"cherry\",\"Grapes\",\"@\"]\n",
        "i=0\n",
        "while i<len(pradeep):\n",
        "  print(pradeep[i])\n",
        "  i=i+1"
      ],
      "metadata": {
        "colab": {
          "base_uri": "https://localhost:8080/"
        },
        "id": "yqhLo1vr2EN1",
        "outputId": "e5f7e194-61ae-4c3c-d72e-30cf2c690eaf"
      },
      "execution_count": null,
      "outputs": [
        {
          "output_type": "stream",
          "name": "stdout",
          "text": [
            "apple\n",
            "banana\n",
            "cherry\n",
            "Grapes\n",
            "@\n"
          ]
        }
      ]
    },
    {
      "cell_type": "markdown",
      "source": [
        "## Loop using list comprehension"
      ],
      "metadata": {
        "id": "MUh50c_YGXIj"
      }
    },
    {
      "cell_type": "code",
      "source": [
        "pradeep= [\"apple\", \"banana\", \"cherry\",\"Grapes\",\"@\"]\n",
        "[print(x) for x in pradeep]"
      ],
      "metadata": {
        "colab": {
          "base_uri": "https://localhost:8080/"
        },
        "id": "ubkNNFwA2Xx_",
        "outputId": "530ac62d-23a3-4af0-b772-43127be8754a"
      },
      "execution_count": null,
      "outputs": [
        {
          "output_type": "stream",
          "name": "stdout",
          "text": [
            "apple\n",
            "banana\n",
            "cherry\n",
            "Grapes\n",
            "@\n"
          ]
        },
        {
          "output_type": "execute_result",
          "data": {
            "text/plain": [
              "[None, None, None, None, None]"
            ]
          },
          "metadata": {},
          "execution_count": 13
        }
      ]
    },
    {
      "cell_type": "markdown",
      "source": [
        "# New list with items having letter \"a\" using for loop"
      ],
      "metadata": {
        "id": "Qw0hFgFUGeSB"
      }
    },
    {
      "cell_type": "code",
      "source": [
        "pradeep=[\"apple\",\"avocado\",\"banana\",\"cherry\",\"kiwi\"]\n",
        "maheswar=[]\n",
        "for x in pradeep:\n",
        "  if \"a\" in x:\n",
        "    maheswar.append(x)\n",
        "print(maheswar)    "
      ],
      "metadata": {
        "id": "ivadBsAw3N4Y",
        "colab": {
          "base_uri": "https://localhost:8080/"
        },
        "outputId": "88ba583a-2915-4c95-a1ee-4ce71ff5b07b"
      },
      "execution_count": 1,
      "outputs": [
        {
          "output_type": "stream",
          "name": "stdout",
          "text": [
            "['apple', 'avocado', 'banana']\n"
          ]
        }
      ]
    },
    {
      "cell_type": "markdown",
      "source": [
        "# New list with items having letter \"a\" using list comprehension"
      ],
      "metadata": {
        "id": "ZX5rQNzyGoId"
      }
    },
    {
      "cell_type": "code",
      "source": [
        "pradeep=[\"apple\",\"avocado\",\"banana\",\"cherry\",\"kiwi\"]\n",
        "maheswar=[x for x in pradeep if \"a\" in x]\n",
        "print(maheswar)"
      ],
      "metadata": {
        "colab": {
          "base_uri": "https://localhost:8080/"
        },
        "id": "KOUD0nkk0CEs",
        "outputId": "4369f316-d979-418e-c038-13c9a5d22219"
      },
      "execution_count": 2,
      "outputs": [
        {
          "output_type": "stream",
          "name": "stdout",
          "text": [
            "['apple', 'avocado', 'banana']\n"
          ]
        }
      ]
    },
    {
      "cell_type": "markdown",
      "source": [
        "## new list removing an item using condition"
      ],
      "metadata": {
        "id": "U0kNRmgHGuWl"
      }
    },
    {
      "cell_type": "code",
      "source": [
        "pradeep=[\"apple\",\"avocado\",\"banana\",\"cherry\",\"kiwi\"]\n",
        "maheswar=[x for x in pradeep if x!=\"apple\"]\n",
        "print(maheswar)"
      ],
      "metadata": {
        "colab": {
          "base_uri": "https://localhost:8080/"
        },
        "id": "gdz8-Nos0VGH",
        "outputId": "cc75e963-a07c-4354-9ce8-139be6559d30"
      },
      "execution_count": 3,
      "outputs": [
        {
          "output_type": "stream",
          "name": "stdout",
          "text": [
            "['avocado', 'banana', 'cherry', 'kiwi']\n"
          ]
        }
      ]
    },
    {
      "cell_type": "markdown",
      "source": [
        "## new list without condition"
      ],
      "metadata": {
        "id": "kwvp_zC7G01X"
      }
    },
    {
      "cell_type": "code",
      "source": [
        "pradeep=[\"apple\",\"avocado\",\"banana\",\"cherry\",\"kiwi\"]\n",
        "maheswar=[x for x in pradeep] \n",
        "print(maheswar)"
      ],
      "metadata": {
        "colab": {
          "base_uri": "https://localhost:8080/"
        },
        "id": "1FgidU8r0sE1",
        "outputId": "889060ff-2a86-4cd1-cc21-39ddf2569d4d"
      },
      "execution_count": 4,
      "outputs": [
        {
          "output_type": "stream",
          "name": "stdout",
          "text": [
            "['apple', 'avocado', 'banana', 'cherry', 'kiwi']\n"
          ]
        }
      ]
    },
    {
      "cell_type": "markdown",
      "source": [
        "## Iterable creation using range"
      ],
      "metadata": {
        "id": "r_0r1WREG8h_"
      }
    },
    {
      "cell_type": "code",
      "source": [
        "\n",
        "maheswar=[x for x in range(10)] \n",
        "print(maheswar)"
      ],
      "metadata": {
        "colab": {
          "base_uri": "https://localhost:8080/"
        },
        "id": "5fwaYzNx3Ffw",
        "outputId": "c5aba7f8-536a-41f8-c531-44652fafba92"
      },
      "execution_count": 6,
      "outputs": [
        {
          "output_type": "stream",
          "name": "stdout",
          "text": [
            "[0, 1, 2, 3, 4, 5, 6, 7, 8, 9]\n"
          ]
        }
      ]
    },
    {
      "cell_type": "code",
      "source": [
        "maheswar=[x for x in range(10) if x<7] #with condition\n",
        "print(maheswar)"
      ],
      "metadata": {
        "colab": {
          "base_uri": "https://localhost:8080/"
        },
        "id": "do_PmAT03qBL",
        "outputId": "50e5a68a-d164-4107-be40-444dd97b57ce"
      },
      "execution_count": 7,
      "outputs": [
        {
          "output_type": "stream",
          "name": "stdout",
          "text": [
            "[0, 1, 2, 3, 4, 5, 6]\n"
          ]
        }
      ]
    },
    {
      "cell_type": "markdown",
      "source": [
        "## Expression"
      ],
      "metadata": {
        "id": "_jqYCCe0HSoj"
      }
    },
    {
      "cell_type": "code",
      "source": [
        "pradeep=[\"apple\",\"avocado\",\"banana\",\"cherry\",\"kiwi\"]\n",
        "maheswar=[x.upper() for x in pradeep]\n",
        "print(maheswar)"
      ],
      "metadata": {
        "colab": {
          "base_uri": "https://localhost:8080/"
        },
        "id": "12j-XaRO3tna",
        "outputId": "70d7201a-7ff2-4824-a59a-d5ac15e20c8f"
      },
      "execution_count": 8,
      "outputs": [
        {
          "output_type": "stream",
          "name": "stdout",
          "text": [
            "['APPLE', 'AVOCADO', 'BANANA', 'CHERRY', 'KIWI']\n"
          ]
        }
      ]
    },
    {
      "cell_type": "code",
      "source": [
        "pradeep=[\"apple\",\"avocado\",\"banana\",\"cherry\",\"kiwi\"]\n",
        "maheswar=[\"good bye\" for x in pradeep] #setting all items as good bye\n",
        "print(maheswar)"
      ],
      "metadata": {
        "colab": {
          "base_uri": "https://localhost:8080/"
        },
        "id": "OnxS2t1e4HDy",
        "outputId": "780756f1-5525-4a98-e380-ca8bfa061380"
      },
      "execution_count": 9,
      "outputs": [
        {
          "output_type": "stream",
          "name": "stdout",
          "text": [
            "['good bye', 'good bye', 'good bye', 'good bye', 'good bye']\n"
          ]
        }
      ]
    },
    {
      "cell_type": "code",
      "source": [
        "pradeep=[\"apple\",\"avocado\",\"banana\",\"cherry\",\"kiwi\"]\n",
        "maheswar=[x if x!=\"avocado\" else \"orange\" for x in pradeep] #replacing using expression\n",
        "print(maheswar)"
      ],
      "metadata": {
        "colab": {
          "base_uri": "https://localhost:8080/"
        },
        "id": "vmMMuj_c4XMp",
        "outputId": "63d4196a-1208-44b8-c5ed-ea251d9b7d95"
      },
      "execution_count": 10,
      "outputs": [
        {
          "output_type": "stream",
          "name": "stdout",
          "text": [
            "['apple', 'orange', 'banana', 'cherry', 'kiwi']\n"
          ]
        }
      ]
    },
    {
      "cell_type": "markdown",
      "source": [
        "## Sorting list alphabetically"
      ],
      "metadata": {
        "id": "-MP3DmhHHnBX"
      }
    },
    {
      "cell_type": "code",
      "source": [
        "pradeep=[\"apple\",\"water melon\",\"grapes\",\"cherry\",\"kiwi\"]\n",
        "pradeep.sort()\n",
        "print(pradeep)"
      ],
      "metadata": {
        "colab": {
          "base_uri": "https://localhost:8080/"
        },
        "id": "9KPGFuG94-J8",
        "outputId": "70fce501-c3aa-449a-f341-1f4fa07c1723"
      },
      "execution_count": 13,
      "outputs": [
        {
          "output_type": "stream",
          "name": "stdout",
          "text": [
            "['apple', 'cherry', 'grapes', 'kiwi', 'water melon']\n"
          ]
        }
      ]
    },
    {
      "cell_type": "markdown",
      "source": [
        "## Sorting list  reverse alphabetically "
      ],
      "metadata": {
        "id": "kjkMsuRAHr_W"
      }
    },
    {
      "cell_type": "code",
      "source": [
        "pradeep=[\"apple\",\"water melon\",\"grapes\",\"cherry\",\"kiwi\"]\n",
        "pradeep.sort(reverse=True)\n",
        "print(pradeep)"
      ],
      "metadata": {
        "colab": {
          "base_uri": "https://localhost:8080/"
        },
        "id": "cp8E359-5cyA",
        "outputId": "617091cd-65af-462c-b3c8-b98a4efe40f5"
      },
      "execution_count": 15,
      "outputs": [
        {
          "output_type": "stream",
          "name": "stdout",
          "text": [
            "['water melon', 'kiwi', 'grapes', 'cherry', 'apple']\n"
          ]
        }
      ]
    },
    {
      "cell_type": "markdown",
      "source": [
        "# Sorting list ascending numerically"
      ],
      "metadata": {
        "id": "3hlkNx2rHzmu"
      }
    },
    {
      "cell_type": "code",
      "source": [
        "pradeep=[10,20,1,23,9,76,54]\n",
        "pradeep.sort()\n",
        "print(pradeep)"
      ],
      "metadata": {
        "colab": {
          "base_uri": "https://localhost:8080/"
        },
        "id": "yfcNd9E-5TwC",
        "outputId": "2470cb47-bd7f-4c97-bd4a-a9bd0f052c20"
      },
      "execution_count": 14,
      "outputs": [
        {
          "output_type": "stream",
          "name": "stdout",
          "text": [
            "[1, 9, 10, 20, 23, 54, 76]\n"
          ]
        }
      ]
    },
    {
      "cell_type": "markdown",
      "source": [
        "# Sorting list descending numerically"
      ],
      "metadata": {
        "id": "uQiHm-_yH-g-"
      }
    },
    {
      "cell_type": "code",
      "source": [
        "pradeep=[10,20,1,23,9,76,54]\n",
        "pradeep.sort(reverse=True)\n",
        "print(pradeep)"
      ],
      "metadata": {
        "colab": {
          "base_uri": "https://localhost:8080/"
        },
        "id": "HuPb2lsa5jG3",
        "outputId": "e4bb1d24-4d9f-40cc-ee57-014f4a48f3b2"
      },
      "execution_count": 16,
      "outputs": [
        {
          "output_type": "stream",
          "name": "stdout",
          "text": [
            "[76, 54, 23, 20, 10, 9, 1]\n"
          ]
        }
      ]
    },
    {
      "cell_type": "markdown",
      "source": [
        "## Customising sort function"
      ],
      "metadata": {
        "id": "XkSINg7kIC9H"
      }
    },
    {
      "cell_type": "code",
      "source": [
        "def myfunc(n):\n",
        "  return abs(n - 50)\n",
        "\n",
        "pradeep = [10, 550, 265, 832, 203]\n",
        "\n",
        "pradeep.sort(key = myfunc)\n",
        "\n",
        "print(pradeep)"
      ],
      "metadata": {
        "colab": {
          "base_uri": "https://localhost:8080/"
        },
        "id": "QQCzcjXW6PYC",
        "outputId": "565260cb-ce8e-4895-8a64-d021e38d754e"
      },
      "execution_count": 17,
      "outputs": [
        {
          "output_type": "stream",
          "name": "stdout",
          "text": [
            "[10, 203, 265, 550, 832]\n"
          ]
        }
      ]
    },
    {
      "cell_type": "markdown",
      "source": [
        "## Case insensitive sorting"
      ],
      "metadata": {
        "id": "rYTsCRhAIHFn"
      }
    },
    {
      "cell_type": "code",
      "source": [
        "pradeep=[\"apple\",\"Water melon\",\"grapes\",\"Cherry\",\"Kiwi\"]\n",
        "pradeep.sort() # sorting is default by keeping capital letters in ascending\n",
        "print(pradeep)"
      ],
      "metadata": {
        "colab": {
          "base_uri": "https://localhost:8080/"
        },
        "id": "8R3uk-Ce6fCY",
        "outputId": "8566d81f-e46c-4e46-b7ed-e1107e3722e8"
      },
      "execution_count": 18,
      "outputs": [
        {
          "output_type": "stream",
          "name": "stdout",
          "text": [
            "['Cherry', 'Kiwi', 'Water melon', 'apple', 'grapes']\n"
          ]
        }
      ]
    },
    {
      "cell_type": "markdown",
      "source": [
        "## Avoiding case sensitive sorting"
      ],
      "metadata": {
        "id": "aSrJQ9iIIRX-"
      }
    },
    {
      "cell_type": "code",
      "source": [
        "pradeep=[\"apple\",\"Water melon\",\"grapes\",\"Cherry\",\"Kiwi\"]\n",
        "pradeep.sort(key=str.lower)\n",
        "print(pradeep)"
      ],
      "metadata": {
        "colab": {
          "base_uri": "https://localhost:8080/"
        },
        "id": "-49LfjOh69WD",
        "outputId": "428a0b89-6fe9-4c04-da30-549fbd19c624"
      },
      "execution_count": 19,
      "outputs": [
        {
          "output_type": "stream",
          "name": "stdout",
          "text": [
            "['apple', 'Cherry', 'grapes', 'Kiwi', 'Water melon']\n"
          ]
        }
      ]
    },
    {
      "cell_type": "markdown",
      "source": [
        "## Reversing a list"
      ],
      "metadata": {
        "id": "fj4qO7jTIW80"
      }
    },
    {
      "cell_type": "code",
      "source": [
        "pradeep=[\"apple\",\"Water melon\",\"grapes\",\"Cherry\",\"Kiwi\"]\n",
        "pradeep.reverse()\n",
        "print(pradeep)"
      ],
      "metadata": {
        "colab": {
          "base_uri": "https://localhost:8080/"
        },
        "id": "Tg9LfXAz7TPE",
        "outputId": "ec27303c-4486-4521-b3d7-0cf033068906"
      },
      "execution_count": 20,
      "outputs": [
        {
          "output_type": "stream",
          "name": "stdout",
          "text": [
            "['Kiwi', 'Cherry', 'grapes', 'Water melon', 'apple']\n"
          ]
        }
      ]
    },
    {
      "cell_type": "markdown",
      "source": [
        "## Copying a list"
      ],
      "metadata": {
        "id": "MSN-nwHqIaes"
      }
    },
    {
      "cell_type": "code",
      "source": [
        "pradeep=[\"apple\",\"Water melon\",\"grapes\",\"Cherry\",\"Kiwi\"]\n",
        "maheswar=pradeep.copy()\n",
        "print(maheswar)"
      ],
      "metadata": {
        "colab": {
          "base_uri": "https://localhost:8080/"
        },
        "id": "EKFlHaJ-7iBW",
        "outputId": "87f3eef8-95bd-4c72-f2ee-248fdd87ba65"
      },
      "execution_count": 21,
      "outputs": [
        {
          "output_type": "stream",
          "name": "stdout",
          "text": [
            "['apple', 'Water melon', 'grapes', 'Cherry', 'Kiwi']\n"
          ]
        }
      ]
    },
    {
      "cell_type": "markdown",
      "source": [
        "### copying with list method"
      ],
      "metadata": {
        "id": "uumFPnUuIh90"
      }
    },
    {
      "cell_type": "code",
      "source": [
        "pradeep=[\"apple\",\"Water melon\",\"grapes\",\"Cherry\",\"Kiwi\"]\n",
        "maheswar=list(pradeep)\n",
        "print(maheswar)"
      ],
      "metadata": {
        "colab": {
          "base_uri": "https://localhost:8080/"
        },
        "id": "1p4gsoV67uBT",
        "outputId": "048aff0b-481e-4e13-c5c5-8a8100d918af"
      },
      "execution_count": 22,
      "outputs": [
        {
          "output_type": "stream",
          "name": "stdout",
          "text": [
            "['apple', 'Water melon', 'grapes', 'Cherry', 'Kiwi']\n"
          ]
        }
      ]
    },
    {
      "cell_type": "markdown",
      "source": [
        "## Joing two lists using +"
      ],
      "metadata": {
        "id": "e6-j9gCqIw--"
      }
    },
    {
      "cell_type": "code",
      "source": [
        "pradeep=[\"apple\",\"Water melon\",\"grapes\",\"Cherry\",\"Kiwi\"]\n",
        "maheswar=[42,54,12,43,\"@\",\"bye\"]\n",
        "me=maheswar+pradeep\n",
        "print(me)"
      ],
      "metadata": {
        "colab": {
          "base_uri": "https://localhost:8080/"
        },
        "id": "cI7-zNsf74wv",
        "outputId": "3b785c85-6d90-4851-f717-59241ff04dbd"
      },
      "execution_count": 23,
      "outputs": [
        {
          "output_type": "stream",
          "name": "stdout",
          "text": [
            "[42, 54, 12, 43, '@', 'bye', 'apple', 'Water melon', 'grapes', 'Cherry', 'Kiwi']\n"
          ]
        }
      ]
    },
    {
      "cell_type": "markdown",
      "source": [
        "## Joining two lists using for loop and append"
      ],
      "metadata": {
        "id": "cBcK8PqmI1gk"
      }
    },
    {
      "cell_type": "code",
      "source": [
        "pradeep=[\"apple\",\"Water melon\",\"grapes\",\"Cherry\",\"Kiwi\"]\n",
        "maheswar=[42,54,12,43,\"@\",\"bye\"]\n",
        "for x in maheswar:\n",
        "  pradeep.append(x)\n",
        "print(pradeep)  "
      ],
      "metadata": {
        "colab": {
          "base_uri": "https://localhost:8080/"
        },
        "id": "4FtHL3C48Zm9",
        "outputId": "f1202b40-fa5f-44f1-f289-782a8bc3019d"
      },
      "execution_count": 24,
      "outputs": [
        {
          "output_type": "stream",
          "name": "stdout",
          "text": [
            "['apple', 'Water melon', 'grapes', 'Cherry', 'Kiwi', 42, 54, 12, 43, '@', 'bye']\n"
          ]
        }
      ]
    },
    {
      "cell_type": "markdown",
      "source": [
        "## Joining using extend"
      ],
      "metadata": {
        "id": "dtr2_VjFI9X8"
      }
    },
    {
      "cell_type": "code",
      "source": [
        "pradeep=[\"apple\",\"Water melon\",\"grapes\",\"Cherry\",\"Kiwi\"]\n",
        "maheswar=[42,54,12,43,\"@\",\"bye\"]\n",
        "pradeep.extend(maheswar)\n",
        "print(pradeep)"
      ],
      "metadata": {
        "colab": {
          "base_uri": "https://localhost:8080/"
        },
        "id": "MGzUDcBA8ocj",
        "outputId": "4792935f-1272-4919-f47c-ac51ac0736e3"
      },
      "execution_count": 25,
      "outputs": [
        {
          "output_type": "stream",
          "name": "stdout",
          "text": [
            "['apple', 'Water melon', 'grapes', 'Cherry', 'Kiwi', 42, 54, 12, 43, '@', 'bye']\n"
          ]
        }
      ]
    }
  ]
}