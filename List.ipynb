{
  "nbformat": 4,
  "nbformat_minor": 0,
  "metadata": {
    "colab": {
      "name": "List.ipynb",
      "provenance": [],
      "authorship_tag": "ABX9TyP5yhYszhED/Tbd/BDt+ktA",
      "include_colab_link": true
    },
    "kernelspec": {
      "name": "python3",
      "display_name": "Python 3"
    },
    "language_info": {
      "name": "python"
    }
  },
  "cells": [
    {
      "cell_type": "markdown",
      "metadata": {
        "id": "view-in-github",
        "colab_type": "text"
      },
      "source": [
        "<a href=\"https://colab.research.google.com/github/MaheswaraPradeep/python/blob/main/List.ipynb\" target=\"_parent\"><img src=\"https://colab.research.google.com/assets/colab-badge.svg\" alt=\"Open In Colab\"/></a>"
      ]
    },
    {
      "cell_type": "code",
      "execution_count": 14,
      "metadata": {
        "colab": {
          "base_uri": "https://localhost:8080/"
        },
        "id": "QEbgbWr8UxDM",
        "outputId": "215fd28f-2474-4b2e-8d32-98b4e26d004e"
      },
      "outputs": [
        {
          "output_type": "stream",
          "name": "stdout",
          "text": [
            "Mango\n",
            "orange\n",
            "water melon\n",
            "['Mango', 'apple']\n",
            "['Mango', 'apple']\n",
            "['orange', 'guava', 'water melon']\n",
            "['apple', 'orange', 'guava', 'water melon']\n",
            "['orange', 'guava']\n",
            "['apple', 'orange', 'guava', 'water melon']\n"
          ]
        }
      ],
      "source": [
        "fruit=[\"Mango\",\"apple\",\"orange\",\"guava\",\"water melon\"]\n",
        "print(fruit)\n",
        "print(fruit[0])\n",
        "print(fruit[2])\n",
        "print(fruit[-1])\n",
        "print(fruit[0:2])\n",
        "print(fruit[:2])\n",
        "print(fruit[2:])\n",
        "print(fruit[1:])\n",
        "print(fruit[2:4])\n",
        "print(fruit[1:])"
      ]
    },
    {
      "cell_type": "markdown",
      "source": [
        "## Adding to list"
      ],
      "metadata": {
        "id": "IOgr0dccaHjq"
      }
    },
    {
      "cell_type": "code",
      "source": [
        "fruit=[\"Mango\",\"apple\",\"orange\",\"guava\",\"water melon\"]\n",
        "print(fruit)\n",
        "#adding items using append\n",
        "fruit.append(\"Chikoo\")\n",
        "print(fruit)\n",
        "#adding items using insert at specific index\n",
        "fruit.insert(0,\"jack fruit\")\n",
        "print(fruit)\n",
        "#addind a list to another list using extend\n",
        "veg=[\"Tomato\",\"Carrot\",\"Onion\"]\n",
        "fruit.extend(veg)\n",
        "print(fruit)"
      ],
      "metadata": {
        "colab": {
          "base_uri": "https://localhost:8080/"
        },
        "id": "q8fWJGJNaG4M",
        "outputId": "263870f7-af53-456b-a2cd-7975bbffa71e"
      },
      "execution_count": 22,
      "outputs": [
        {
          "output_type": "stream",
          "name": "stdout",
          "text": [
            "['Mango', 'apple', 'orange', 'guava', 'water melon']\n",
            "['Mango', 'apple', 'orange', 'guava', 'water melon', 'Chikoo']\n",
            "['jack fruit', 'Mango', 'apple', 'orange', 'guava', 'water melon', 'Chikoo']\n",
            "['jack fruit', 'Mango', 'apple', 'orange', 'guava', 'water melon', 'Chikoo', 'Tomato', 'Carrot', 'Onion']\n"
          ]
        }
      ]
    },
    {
      "cell_type": "markdown",
      "source": [
        "## Remove from a list"
      ],
      "metadata": {
        "id": "MfBMh-mFc-NK"
      }
    },
    {
      "cell_type": "code",
      "source": [
        "fruit=[\"Mango\",\"apple\",\"orange\",\"guava\",\"water melon\"]\n",
        "#to remove a specified item using remove\n",
        "fruit.remove(\"Mango\")\n",
        "print(fruit)\n",
        "#to remove a specified item in a given index using pop\n",
        "fruit=[\"Mango\",\"apple\",\"orange\",\"guava\",\"water melon\"]\n",
        "fruit.pop(1)\n",
        "print(fruit)\n",
        "#to remove last item using pop\n",
        "fruit=[\"Mango\",\"apple\",\"orange\",\"guava\",\"water melon\"]\n",
        "fruit.pop()\n",
        "print(fruit)\n",
        "#to remove  item using del\n",
        "fruit=[\"Mango\",\"apple\",\"orange\",\"guava\",\"water melon\"]\n",
        "del fruit[0]\n",
        "print(fruit)\n",
        "print(type(fruit))"
      ],
      "metadata": {
        "colab": {
          "base_uri": "https://localhost:8080/"
        },
        "id": "zqe9Iyj8c9Qj",
        "outputId": "7b45ec8c-1f8d-45a8-b8f8-075785499935"
      },
      "execution_count": 36,
      "outputs": [
        {
          "output_type": "stream",
          "name": "stdout",
          "text": [
            "['apple', 'orange', 'guava', 'water melon']\n",
            "['Mango', 'orange', 'guava', 'water melon']\n",
            "['Mango', 'apple', 'orange', 'guava']\n",
            "['apple', 'orange', 'guava', 'water melon']\n",
            "<class 'list'>\n"
          ]
        }
      ]
    },
    {
      "cell_type": "code",
      "source": [
        "List=[\"Hello\",\"pr;\",1234,\"@mp\",\"red\"]\n",
        "print(List)\n",
        "#remove using pop\n",
        "List.pop()\n",
        "print(List)\n",
        "#remove using del\n",
        "List=[\"Hello\",\"pr;\",1234,\"@mp\",\"red\"]\n",
        "del List\n",
        "#remove items in the list and make it empty using clear\n",
        "List=[\"Hello\",\"pr;\",1234,\"@mp\",\"red\"]\n",
        "List.clear()\n",
        "print(List)"
      ],
      "metadata": {
        "colab": {
          "base_uri": "https://localhost:8080/"
        },
        "id": "ePF6Xkteehve",
        "outputId": "d350390d-c0f0-4a2a-a46d-14066d812b47"
      },
      "execution_count": 37,
      "outputs": [
        {
          "output_type": "stream",
          "name": "stdout",
          "text": [
            "['Hello', 'pr;', 1234, '@mp', 'red']\n",
            "['Hello', 'pr;', 1234, '@mp']\n",
            "[]\n"
          ]
        }
      ]
    },
    {
      "cell_type": "markdown",
      "source": [
        "## Sorting lists"
      ],
      "metadata": {
        "id": "Q2aPLSJ0ht9q"
      }
    },
    {
      "cell_type": "code",
      "source": [
        "fruit=[\"mango\",\"apple\",\"orange\",\"guava\",\"water melon\"]\n",
        "#sort alphabetically ascending\n",
        "fruit.sort()\n",
        "print(fruit)\n",
        "#sort alphabetically descending\n",
        "fruit=[\"mango\",\"apple\",\"orange\",\"guava\",\"water melon\"]\n",
        "fruit.sort(reverse=True)\n",
        "print(fruit)\n",
        "#sort numerically ascending\n",
        "num=[123,998,75757,654,45654]\n",
        "num.sort()\n",
        "print(num)\n",
        "#sort descending\n",
        "num=[123,998,75757,654,45654]\n",
        "num.sort(reverse=True)\n",
        "print(num)\n",
        "#case insensitive sort which means sort automatically keeps the capital letters in the ascending list\n",
        "fruit=[\"Mango\",\"apple\",\"Orange\",\"guava\",\"water melon\"]\n",
        "fruit.sort()\n",
        "print(fruit)\n",
        "print(len(fruit))\n"
      ],
      "metadata": {
        "colab": {
          "base_uri": "https://localhost:8080/"
        },
        "id": "BA3qN1j-htQF",
        "outputId": "e3a96913-159a-4449-a6d5-9b3c73c68313"
      },
      "execution_count": 46,
      "outputs": [
        {
          "output_type": "stream",
          "name": "stdout",
          "text": [
            "['apple', 'guava', 'mango', 'orange', 'water melon']\n",
            "['water melon', 'orange', 'mango', 'guava', 'apple']\n",
            "[123, 654, 998, 45654, 75757]\n",
            "[75757, 45654, 998, 654, 123]\n",
            "['Mango', 'Orange', 'apple', 'guava', 'water melon']\n",
            "5\n"
          ]
        }
      ]
    }
  ]
}