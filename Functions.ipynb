{
  "nbformat": 4,
  "nbformat_minor": 0,
  "metadata": {
    "colab": {
      "name": "Functions.ipynb",
      "provenance": [],
      "collapsed_sections": [],
      "authorship_tag": "ABX9TyOgN1ymN/g4lbvApW2eBVhE",
      "include_colab_link": true
    },
    "kernelspec": {
      "name": "python3",
      "display_name": "Python 3"
    },
    "language_info": {
      "name": "python"
    }
  },
  "cells": [
    {
      "cell_type": "markdown",
      "metadata": {
        "id": "view-in-github",
        "colab_type": "text"
      },
      "source": [
        "<a href=\"https://colab.research.google.com/github/MaheswaraPradeep/python/blob/main/Functions.ipynb\" target=\"_parent\"><img src=\"https://colab.research.google.com/assets/colab-badge.svg\" alt=\"Open In Colab\"/></a>"
      ]
    },
    {
      "cell_type": "markdown",
      "source": [
        "## Defining my function"
      ],
      "metadata": {
        "id": "m-Th4DnCUFpC"
      }
    },
    {
      "cell_type": "code",
      "execution_count": null,
      "metadata": {
        "colab": {
          "base_uri": "https://localhost:8080/"
        },
        "id": "QJOWWsCrO5jv",
        "outputId": "026b62be-426d-4c45-b0e8-7e21d75bfe10"
      },
      "outputs": [
        {
          "output_type": "stream",
          "name": "stdout",
          "text": [
            "Hello to this world\n"
          ]
        }
      ],
      "source": [
        "def pradeep():\n",
        "  print(\"Hello to this world\")\n",
        "pradeep() \n"
      ]
    },
    {
      "cell_type": "markdown",
      "source": [
        "## Calling arguments"
      ],
      "metadata": {
        "id": "Zrr94GT6WMpT"
      }
    },
    {
      "cell_type": "code",
      "source": [
        "def pradeep(mydocuments):\n",
        "  print(mydocuments+\" complete\")\n",
        "pradeep(\"module 1\")  \n",
        "pradeep(\"module 2\")  \n",
        "pradeep(\"module 3\")  \n"
      ],
      "metadata": {
        "colab": {
          "base_uri": "https://localhost:8080/"
        },
        "id": "pNhugbdeUJ6a",
        "outputId": "18e7ee51-e770-4a64-e5ec-a8f40ac91dc8"
      },
      "execution_count": null,
      "outputs": [
        {
          "output_type": "stream",
          "name": "stdout",
          "text": [
            "module 1 complete\n",
            "module 2 complete\n",
            "module 3 complete\n"
          ]
        }
      ]
    },
    {
      "cell_type": "markdown",
      "source": [
        "## Using more than 1 argument"
      ],
      "metadata": {
        "id": "fOiPA_lhWnMB"
      }
    },
    {
      "cell_type": "code",
      "source": [
        "def pradeep(mydocuments,mycomputer):\n",
        "  print(mydocuments+\" \"+mycomputer)\n",
        "pradeep(\"hi\",\"hello\")  "
      ],
      "metadata": {
        "colab": {
          "base_uri": "https://localhost:8080/"
        },
        "id": "qwM3JbjzV7Lj",
        "outputId": "41a08499-7c94-4c75-c376-44c087f3ab5e"
      },
      "execution_count": null,
      "outputs": [
        {
          "output_type": "stream",
          "name": "stdout",
          "text": [
            "hi hello\n"
          ]
        }
      ]
    },
    {
      "cell_type": "markdown",
      "source": [
        "## If no of arguments is not known"
      ],
      "metadata": {
        "id": "ejb0oprPYIPC"
      }
    },
    {
      "cell_type": "code",
      "source": [
        "def pradeep(*result): # If the number of arguments is unknown, add a * before the parameter name:\n",
        "  print(\"RRR is\"+\" \"+result[2])\n",
        "pradeep(\"hit\",\"super hit\",\"blockbuster\")  "
      ],
      "metadata": {
        "id": "E6wZTE_JWseK",
        "colab": {
          "base_uri": "https://localhost:8080/"
        },
        "outputId": "e88736d9-3180-4515-eaa4-022466ddc69b"
      },
      "execution_count": null,
      "outputs": [
        {
          "output_type": "stream",
          "name": "stdout",
          "text": [
            "RRR is blockbuster\n"
          ]
        }
      ]
    },
    {
      "cell_type": "markdown",
      "source": [
        "## Keyword arugments"
      ],
      "metadata": {
        "id": "fInOC8P7ZNii"
      }
    },
    {
      "cell_type": "code",
      "source": [
        "def pradeep(subject,teacher):\n",
        "  print(subject+\" teacher is \"+teacher)\n",
        "pradeep(subject=\"python\",teacher=\"Yashwanth sir\")  "
      ],
      "metadata": {
        "colab": {
          "base_uri": "https://localhost:8080/"
        },
        "id": "aLVTrVvQYzpr",
        "outputId": "68670945-fe03-4325-d288-1bb7a0db041e"
      },
      "execution_count": null,
      "outputs": [
        {
          "output_type": "stream",
          "name": "stdout",
          "text": [
            "python teacher is Yashwanth sir\n"
          ]
        }
      ]
    },
    {
      "cell_type": "markdown",
      "source": [
        "## Arbitrary Keyword Arguments"
      ],
      "metadata": {
        "id": "K7k5lisqcqb-"
      }
    },
    {
      "cell_type": "code",
      "source": [
        "def pradeep(**name): # If the number of keyword arguments is unknown, add a double ** before the parameter name:\n",
        "  print(\"my name is\"+\" \"+name[\"kid3\"])\n",
        "pradeep(kid1=\"hemakesh\",kid2=\"mohana\",kid3=\"Pradeep\")"
      ],
      "metadata": {
        "colab": {
          "base_uri": "https://localhost:8080/"
        },
        "id": "i3unVTAhZTCy",
        "outputId": "4a15ab0c-a7cf-479c-8e1d-85fe1b07954c"
      },
      "execution_count": null,
      "outputs": [
        {
          "output_type": "stream",
          "name": "stdout",
          "text": [
            "my name is Pradeep\n"
          ]
        }
      ]
    },
    {
      "cell_type": "markdown",
      "source": [
        "## Default Parameter Value"
      ],
      "metadata": {
        "id": "3ZhiW0HgecKf"
      }
    },
    {
      "cell_type": "code",
      "source": [
        "def pradeep(name=\"lenovo\"):\n",
        "  print(\"my laptop company is\"+\" \"+name) # If we call the function without argument, it uses the default value:\n",
        "pradeep(\"hp\")  \n",
        "pradeep(\"dell\") \n",
        "pradeep()\n",
        "pradeep(\"apple\") "
      ],
      "metadata": {
        "colab": {
          "base_uri": "https://localhost:8080/"
        },
        "id": "rnMGUYXqcvlc",
        "outputId": "cf686a2f-2276-4ce8-d2d9-63a77948f62f"
      },
      "execution_count": null,
      "outputs": [
        {
          "output_type": "stream",
          "name": "stdout",
          "text": [
            "my laptop company is hp\n",
            "my laptop company is dell\n",
            "my laptop company is lenovo\n",
            "my laptop company is apple\n"
          ]
        }
      ]
    },
    {
      "cell_type": "markdown",
      "source": [
        "## Passing a List as an Argument"
      ],
      "metadata": {
        "id": "QTUlsH7_jOZW"
      }
    },
    {
      "cell_type": "code",
      "source": [
        "def pradeep(thisyearmovies):\n",
        "  for x in thisyearmovies:\n",
        "    print(x)\n",
        "\n",
        "x=[\"RRR\",\"Radhe Shyam\",\"KGF 2\"]\n",
        "pradeep(x)    "
      ],
      "metadata": {
        "colab": {
          "base_uri": "https://localhost:8080/"
        },
        "id": "5FJmGdGNeg1d",
        "outputId": "9871ba95-f681-40d5-a113-5f9a5c60e7ac"
      },
      "execution_count": null,
      "outputs": [
        {
          "output_type": "stream",
          "name": "stdout",
          "text": [
            "RRR\n",
            "Radhe Shyam\n",
            "KGF 2\n"
          ]
        }
      ]
    },
    {
      "cell_type": "markdown",
      "source": [
        "## Return Values"
      ],
      "metadata": {
        "id": "pL2lxZdxggFk"
      }
    },
    {
      "cell_type": "code",
      "source": [
        "def pradeep(a):\n",
        "  return 33+3*a\n",
        "print(pradeep(5))  \n",
        "print(pradeep(1)) \n",
        "print(pradeep(2)) "
      ],
      "metadata": {
        "colab": {
          "base_uri": "https://localhost:8080/"
        },
        "id": "GqfTMMWCfcRl",
        "outputId": "986fd82f-7a22-4d95-e74b-042e656c125e"
      },
      "execution_count": null,
      "outputs": [
        {
          "output_type": "stream",
          "name": "stdout",
          "text": [
            "48\n",
            "36\n",
            "39\n"
          ]
        }
      ]
    },
    {
      "cell_type": "markdown",
      "source": [
        "## The pass Statement"
      ],
      "metadata": {
        "id": "df2cMi63gur_"
      }
    },
    {
      "cell_type": "code",
      "source": [
        "def pradeep(): \n",
        "  pass # function definition with no content, put in the pass statement to avoid getting an error."
      ],
      "metadata": {
        "id": "MYp-sCS9gjwF"
      },
      "execution_count": null,
      "outputs": []
    },
    {
      "cell_type": "code",
      "source": [
        ""
      ],
      "metadata": {
        "id": "h2XI6vNeg1pI"
      },
      "execution_count": null,
      "outputs": []
    }
  ]
}